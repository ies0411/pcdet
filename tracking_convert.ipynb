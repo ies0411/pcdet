{
 "cells": [
  {
   "cell_type": "code",
   "execution_count": 25,
   "metadata": {},
   "outputs": [],
   "source": [
    "import cv2\n",
    "import matplotlib.pyplot as plt\n",
    "import os\n",
    "import natsort\n",
    "import shutil\n",
    "import re\n",
    "import numpy as np\n",
    "\n",
    "%matplotlib inline\n",
    "\n",
    "# img_path ='./sample/image/0000/000094.png'\n",
    "# image = cv2.imread(img_path)"
   ]
  },
  {
   "cell_type": "code",
   "execution_count": 26,
   "metadata": {},
   "outputs": [],
   "source": [
    "\n",
    "base_path = \"/mnt/nas3/Data/kitti-processed/object_tracking/training\"\n",
    "\n",
    "\n",
    "calib_path = os.path.join(base_path,\"calib\")\n",
    "image_path = os.path.join(base_path,\"image_02\")\n",
    "label_path = os.path.join(base_path,\"label_02\")\n",
    "lidar_path = os.path.join(base_path,\"velodyne\")\n",
    "\n",
    "\n",
    "output_base_path = \"/home/eslim/workspace/tracking_convert/training\"\n",
    "output_lidar_path = os.path.join(output_base_path, \"points\")\n",
    "output_label_path = os.path.join(output_base_path, \"label\")\n",
    "\n",
    "# output_image_path = os.path.join(output_base_path, \"image_02\")\n",
    "# output_calib_path = os.path.join(output_base_path, \"calib\")\n"
   ]
  },
  {
   "cell_type": "code",
   "execution_count": 27,
   "metadata": {},
   "outputs": [],
   "source": [
    "def convert_bin_to_npy(file_path, save_path):\n",
    "    arr = np.fromfile(file_path, dtype=np.float32)\n",
    "    np.save(save_path, arr)\n",
    "\n",
    "\n",
    "def read_calib(calib_path):\n",
    "    with open(calib_path) as f:\n",
    "        for line in f.readlines():\n",
    "            if line[:2] == \"P2\":\n",
    "                P2 = re.split(\" \", line.strip())\n",
    "                P2 = np.array(P2[-12:], np.float32)\n",
    "                P2 = P2.reshape((3, 4))\n",
    "            if line[:14] == \"Tr_velo_to_cam\" or line[:11] == \"Tr_velo_cam\":\n",
    "                vtc_mat = re.split(\" \", line.strip())\n",
    "                vtc_mat = np.array(vtc_mat[-12:], np.float32)\n",
    "                vtc_mat = vtc_mat.reshape((3, 4))\n",
    "                vtc_mat = np.concatenate([vtc_mat, [[0, 0, 0, 1]]])\n",
    "            if line[:7] == \"R0_rect\" or line[:6] == \"R_rect\":\n",
    "                R0 = re.split(\" \", line.strip())\n",
    "                R0 = np.array(R0[-9:], np.float32)\n",
    "                R0 = R0.reshape((3, 3))\n",
    "                R0 = np.concatenate([R0, [[0], [0], [0]]], -1)\n",
    "                R0 = np.concatenate([R0, [[0, 0, 0, 1]]])\n",
    "    vtc_mat = np.matmul(R0, vtc_mat)\n",
    "    return (P2, vtc_mat)\n",
    "    "
   ]
  },
  {
   "cell_type": "code",
   "execution_count": 28,
   "metadata": {},
   "outputs": [],
   "source": [
    "def fov_filter(src_file_path,frame_idx,calib_path):\n",
    "    P2, V2C = read_calib(\n",
    "            os.path.join(calib_path, f\"{str(frame_idx).zfill(4)}.txt\")\n",
    "    )\n",
    "    max_row = 374  # y\n",
    "    max_col = 1241  # x\n",
    "    \n",
    "    lidar = np.fromfile(src_file_path, dtype=np.float32).reshape(\n",
    "        -1, 4\n",
    "    )\n",
    "    \n",
    "    mask = lidar[:, 0] > 0\n",
    "    lidar = lidar[mask]\n",
    "    \n",
    "    lidar_copy = np.zeros(shape=lidar.shape)\n",
    "    lidar_copy[:, :] = lidar[:, :]\n",
    "    velo_tocam = V2C\n",
    "    lidar[:, 3] = 1\n",
    "    lidar = np.matmul(lidar, velo_tocam.T)\n",
    "    img_pts = np.matmul(lidar, P2.T)\n",
    "    \n",
    "    velo_tocam = np.mat(velo_tocam).I\n",
    "    velo_tocam = np.array(velo_tocam)\n",
    "    normal = velo_tocam\n",
    "    normal = normal[0:3, 0:4]\n",
    "    lidar = np.matmul(lidar, normal.T)\n",
    "    lidar_copy[:, 0:3] = lidar\n",
    "    x, y = img_pts[:, 0] / img_pts[:, 2], img_pts[:, 1] / img_pts[:, 2]\n",
    "    mask = np.logical_and(\n",
    "        np.logical_and(x >= 0, x < max_col), np.logical_and(y >= 0, y < max_row)\n",
    "    )\n",
    "    points = lidar_copy[mask]\n",
    "    return points"
   ]
  },
  {
   "cell_type": "code",
   "execution_count": 29,
   "metadata": {},
   "outputs": [],
   "source": [
    "def copy_files(src_file, dest_folder,dest_file_name):\n",
    "    # 대상 폴더가 존재하지 않으면 생성\n",
    "    if not os.path.exists(dest_folder):\n",
    "        os.makedirs(dest_folder)\n",
    "\n",
    "    # 소스 폴더 내의 모든 파일 복사\n",
    "  \n",
    "    # src_file = os.path.join(src_folder, filename)\n",
    "    dest_file = os.path.join(dest_folder, dest_file_name)\n",
    "        \n",
    "        # 파일인지 확인 (폴더는 복사하지 않음)\n",
    "    if os.path.isfile(src_file):\n",
    "        shutil.copy(src_file, dest_file)\n",
    "        # print(f\"Copied: {src_file} to {dest_file}\")\n",
    "\n",
    "def save_files(points, dest_folder,dest_file_name):\n",
    "    if not os.path.exists(dest_folder):\n",
    "        os.makedirs(dest_folder)\n",
    "\n",
    "    # 소스 폴더 내의 모든 파일 복사\n",
    "  \n",
    "    # src_file = os.path.join(src_folder, filename)\n",
    "    dest_file = os.path.join(dest_folder, dest_file_name)\n",
    "    np.save(dest_file, points)\n",
    "\n",
    "       \n"
   ]
  },
  {
   "cell_type": "code",
   "execution_count": 30,
   "metadata": {},
   "outputs": [
    {
     "name": "stdout",
     "output_type": "stream",
     "text": [
      "0\n",
      "1\n",
      "2\n",
      "3\n",
      "4\n",
      "5\n",
      "6\n",
      "7\n",
      "8\n",
      "9\n",
      "10\n",
      "11\n",
      "12\n",
      "13\n",
      "14\n",
      "15\n",
      "16\n",
      "17\n",
      "18\n",
      "19\n",
      "20\n"
     ]
    }
   ],
   "source": [
    "# lidar\n",
    "\n",
    "lidar_dir_list = os.listdir(lidar_path)\n",
    "lidar_dir_list = natsort.natsorted(lidar_dir_list)\n",
    "lidar_dir_list\n",
    "last_name =0\n",
    "for idx,lidar_dir in enumerate(lidar_dir_list):\n",
    "    files = os.listdir(os.path.join(lidar_path, lidar_dir))\n",
    "    files = natsort.natsorted(files)\n",
    "\n",
    "    for file in files:\n",
    "        # def fov_filter(src_file_path,frame_idx,calib_path):\n",
    "        src_file_path = os.path.join(lidar_path, lidar_dir, file)\n",
    "        points = fov_filter(src_file_path, idx,calib_path)\n",
    "        save_files(points, output_lidar_path, str(int(file.split(\".\")[0]) + last_name).zfill(6)+\".npy\")\n",
    "        # copy_files(os.path.join(lidar_path, lidar_dir, file),output_lidar_path, str(int(file.split(\".\")[0]) + last_name).zfill(6)+\".bin\")\n",
    "    last_name = files[-1]\n",
    "    last_name = int(last_name.split(\".\")[0]) if type(last_name)  != int  else 0\n",
    "    print(idx)\n"
   ]
  },
  {
   "cell_type": "code",
   "execution_count": 31,
   "metadata": {},
   "outputs": [
    {
     "data": {
      "text/plain": [
       "array([[ 2.27189999e+01,  3.09999995e-02,  9.76999998e-01,\n",
       "         3.19999993e-01],\n",
       "       [ 1.80520000e+01,  7.59999976e-02,  8.19999993e-01,\n",
       "         4.60000008e-01],\n",
       "       [ 1.80259991e+01,  1.31999999e-01,  8.19000006e-01,\n",
       "         2.39999995e-01],\n",
       "       ...,\n",
       "       [ 6.62300014e+00, -3.40000018e-02, -1.73500001e+00,\n",
       "         2.00000003e-01],\n",
       "       [ 6.62500000e+00, -2.30000000e-02, -1.73599994e+00,\n",
       "         2.50000000e-01],\n",
       "       [ 6.62699986e+00, -3.00000003e-03, -1.73599994e+00,\n",
       "         2.30000004e-01]])"
      ]
     },
     "execution_count": 31,
     "metadata": {},
     "output_type": "execute_result"
    }
   ],
   "source": [
    "point = np.load(\"/home/eslim/workspace/tracking_convert/training/points/000000.npy\")\n",
    "point"
   ]
  },
  {
   "cell_type": "code",
   "execution_count": 182,
   "metadata": {},
   "outputs": [],
   "source": [
    "#label\n",
    "def load_label(path):\n",
    "    with open(path, 'r') as file:\n",
    "        lines = file.read().splitlines()\n",
    "    return lines\n",
    "    "
   ]
  },
  {
   "cell_type": "code",
   "execution_count": 183,
   "metadata": {},
   "outputs": [
    {
     "data": {
      "text/plain": [
       "'0 0 Van 0 0 -1.793451 296.744956 161.752147 455.226042 292.372804 2.000000 1.823255 4.433886 -4.552284 1.858523 13.410495 -2.115488'"
      ]
     },
     "execution_count": 183,
     "metadata": {},
     "output_type": "execute_result"
    }
   ],
   "source": [
    "lines = load_label(os.path.join(label_path,\"0000.txt\"))\n",
    "line = lines[2]\n",
    "line\n",
    "# line = line.split()\n",
    "# words = [word for line in content.splitlines() for word in line.split()]\n",
    "# line\n",
    "# line"
   ]
  },
  {
   "cell_type": "code",
   "execution_count": 184,
   "metadata": {},
   "outputs": [],
   "source": [
    "def cam_to_lidar_pose(box, vtc_mat):\n",
    "    box.append(1)\n",
    "    mat = np.array(box)\n",
    "    ctv_mat = vtc_mat.T    \n",
    "    mat = mat.reshape(4,1)\n",
    "    mat = mat.astype('float64')\n",
    "    transformed_mat = ctv_mat @ mat\n",
    "    T = np.array(transformed_mat.T, dtype=np.float32)\n",
    "    return T"
   ]
  },
  {
   "cell_type": "code",
   "execution_count": 185,
   "metadata": {},
   "outputs": [],
   "source": [
    "def save_label( P2,V2C,label_list, dest_path):\n",
    "    class_name = label_list[2]\n",
    "    dim = np.array(label_list[10:13]).astype('float64')\n",
    "    dim = dim[::-1]\n",
    "    location = label_list[13:16]\n",
    "    rot = float(label_list[-1])\n",
    "    location_lidar = cam_to_lidar_pose(location, V2C)[0]\n",
    "    rot_lidar = -rot - np.pi/2\n",
    "    location_lidar[2] += dim[2]/2\n",
    "    \n",
    "    if os.path.exists(dest_path):\n",
    "        with open(dest_path, \"a\") as f:\n",
    "            f.write(f\"{location_lidar[0]:.6f} {location_lidar[1]:.6f} {location_lidar[2]:.6f} {dim[0]:.6f} {dim[1]:.6f} {dim[2]:.6f} {rot_lidar:.6f} {class_name}\\n\")\n",
    "    else:\n",
    "        with open(dest_path, \"w\") as f:\n",
    "            f.write(f\"{location_lidar[0]:.6f} {location_lidar[1]:.6f} {location_lidar[2]:.6f} {dim[0]:.6f} {dim[1]:.6f} {dim[2]:.6f} {rot_lidar:.6f} {class_name}\\n\")\n",
    "\n",
    "        \n",
    "            "
   ]
  },
  {
   "cell_type": "code",
   "execution_count": 186,
   "metadata": {},
   "outputs": [],
   "source": [
    "# lines[0]"
   ]
  },
  {
   "cell_type": "code",
   "execution_count": null,
   "metadata": {},
   "outputs": [],
   "source": [
    "# load_label(label_path)\n",
    "\n",
    "label_dir_list = os.listdir(label_path)\n",
    "label_dir_list = natsort.natsorted(label_dir_list)\n",
    "# lidar_dir_list\n",
    "last_name =0\n",
    "last_idx=0\n",
    "\n",
    "\n",
    "\n",
    "if not os.path.exists(output_label_path):\n",
    "    os.makedirs(output_label_path)\n",
    "\n",
    "for idx, label_dir in enumerate(label_dir_list):\n",
    "    # print(os.path.join(label_path,label_dir))\n",
    "    lines = load_label(os.path.join(label_path,label_dir))\n",
    "    # print(lines)\n",
    "    for line in lines:\n",
    "        line = line.split()\n",
    "        frame_idx = int(line[0]) + last_idx\n",
    "        if line[2] != \"Pedestrian\" and line[2] != \"Car\" and line[2] != \"Cyclist\":\n",
    "            continue\n",
    "        \n",
    "        # print(frame_idx)\n",
    "        \n",
    "        P2, V2C = read_calib(os.path.join(calib_path,f\"{str(idx).zfill(4)}.txt\"))\n",
    "        save_label( P2,V2C,line,os.path.join(output_label_path,f\"{str(frame_idx).zfill(6)}.txt\"))\n",
    "        # break\n",
    "        # last_idx = int(line[0])\n",
    "    last_idx = frame_idx\n",
    "        # print(line)\n",
    "        # print(\"check\")\n"
   ]
  },
  {
   "cell_type": "code",
   "execution_count": 175,
   "metadata": {},
   "outputs": [],
   "source": [
    "# # image\n",
    "\n",
    "# image_dir_list = os.listdir(image_path)\n",
    "# image_dir_list = natsort.natsorted(image_dir_list)\n",
    "# image_dir_list\n",
    "# last_name =0\n",
    "# for idx,image_dir in enumerate(image_dir_list):\n",
    "#     files = os.listdir(os.path.join(image_path, image_dir))\n",
    "#     files = natsort.natsorted(files)\n",
    "#     for file in files:\n",
    "#         copy_files(os.path.join(image_path, image_dir, file),output_image_path, str(int(file.split(\".\")[0]) + last_name).zfill(6)+\".png\")\n",
    "#     last_name = files[-1]\n",
    "#     last_name = int(last_name.split(\".\")[0]) if type(last_name)  != int  else 0\n",
    "#     print(idx)"
   ]
  },
  {
   "cell_type": "code",
   "execution_count": null,
   "metadata": {},
   "outputs": [],
   "source": [
    "# # calib\n",
    "# image_dir_list = os.listdir(image_path)\n",
    "# image_dir_list = natsort.natsorted(image_dir_list)\n",
    "\n",
    "# calib_dir_list = os.listdir(calib_path)\n",
    "# calib_dir_list = natsort.natsorted(calib_dir_list)\n",
    "\n",
    "# last_idx = 0\n",
    "# for idx, image_dir in enumerate(image_dir_list):\n",
    "#     files = os.listdir(os.path.join(image_path, image_dir))\n",
    "#     # files = natsort.natsorted(files)\n",
    "#     last_name = len(files)\n",
    "#     # last_name = int(last_name.split(\".\")[0])\n",
    "#     for name in range(last_name):\n",
    "#         src_calib_path = os.path.join(calib_path, calib_dir_list[idx])\n",
    "#         dst_calib_name = str(last_idx+name).zfill(6)\n",
    "#         copy_files(src_calib_path, output_calib_path, dst_calib_name+\".txt\")\n",
    "#     last_idx = last_name\n",
    "#     print(idx)\n",
    "\n",
    "\n"
   ]
  },
  {
   "cell_type": "code",
   "execution_count": 160,
   "metadata": {},
   "outputs": [
    {
     "data": {
      "text/plain": [
       "array([5, 4, 3, 2, 1])"
      ]
     },
     "execution_count": 160,
     "metadata": {},
     "output_type": "execute_result"
    }
   ],
   "source": [
    "arr = np.array([1,2,3,4,5])\n",
    "\n",
    "arr = arr[::-1]\n",
    "arr"
   ]
  }
 ],
 "metadata": {
  "kernelspec": {
   "display_name": "Python 3 (ipykernel)",
   "language": "python",
   "name": "python3"
  },
  "language_info": {
   "codemirror_mode": {
    "name": "ipython",
    "version": 3
   },
   "file_extension": ".py",
   "mimetype": "text/x-python",
   "name": "python",
   "nbconvert_exporter": "python",
   "pygments_lexer": "ipython3",
   "version": "3.8.10"
  }
 },
 "nbformat": 4,
 "nbformat_minor": 4
}
