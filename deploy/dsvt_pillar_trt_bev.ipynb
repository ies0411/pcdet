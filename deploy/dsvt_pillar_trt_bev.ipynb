{
 "cells": [
  {
   "cell_type": "code",
   "execution_count": 4,
   "id": "5367841a-db44-47da-ac41-923c5f82f4e1",
   "metadata": {},
   "outputs": [],
   "source": [
    "import os\n",
    "os.environ[\"CUDA_VISIBLE_DEVICES\"]=\"2\"\n",
    "# 코드에서 nms제외해야함"
   ]
  },
  {
   "cell_type": "code",
   "execution_count": 5,
   "id": "9aa41efc-82ea-4e45-bd9b-7f910a81df94",
   "metadata": {},
   "outputs": [],
   "source": [
    "# !python3 -m pip install --pre-upgrade tensorrt\n",
    "# !pip install pycuda"
   ]
  },
  {
   "cell_type": "code",
   "execution_count": null,
   "id": "7b385e2e-4ab7-4f1e-a7d3-9799101350f6",
   "metadata": {},
   "outputs": [],
   "source": []
  },
  {
   "cell_type": "code",
   "execution_count": 6,
   "id": "875dbfda-d810-428b-a6c3-48eddb22a569",
   "metadata": {},
   "outputs": [],
   "source": [
    "# !python3 -m pip install --pre --upgrade tensorrt\n",
    "# !apt-get install tensorrt -y\n",
    "# !wget https://developer.nvidia.com/downloads/compute/machine-learning/tensorrt/10.0.0/tars/TensorRT-10.0.0.6.Linux.x86_64-gnu.cuda-11.8.tar.gz\n",
    "\n",
    "# python3 -m pip install tensorrt-10.0.0b6-cp38-none-linux_x86_64.whl\n",
    "# export PATH=/path/to/tensorrt/bin:$PATH\n",
    "# export LD_LIBRARY_PATH=<TensorRT-${version}/lib>:$LD_LIBRARY_PATH\n",
    "# source ~/.bashrc\n",
    "# https://docs.nvidia.com/deeplearning/tensorrt/install-guide/index.html#installing-tar\n",
    "# https://da2so.tistory.com/61"
   ]
  },
  {
   "cell_type": "code",
   "execution_count": 7,
   "id": "c47c2a81-7429-437b-98fe-b70754366732",
   "metadata": {},
   "outputs": [],
   "source": [
    "# base_name = \"./deploy_pillar_sfaw_3d/dsvt_3d_bb.onnx\"\n",
    "# --memPoolSize=workspace:4096\n",
    "# --device=1\n",
    "# --buildOnly\n",
    "# --tacticSources=+CUDNN,+CUBLAS,-CUBLAS_LT,+EDGE_MASK_CONVOLUTIONS \\\n",
    "# --minShapes=src:3000x192,set_voxel_inds_tensor_shift_0:2x170x36,set_voxel_inds_tensor_shift_1:2x100x36,set_voxel_masks_tensor_shift_0:2x170x36,set_voxel_masks_tensor_shift_1:2x100x36,pos_embed_tensor:4x2x3000x192 \\\n",
    "# --optShapes=src:20000x192,set_voxel_inds_tensor_shift_0:2x1000x36,set_voxel_inds_tensor_shift_1:2x700x36,set_voxel_masks_tensor_shift_0:2x1000x36,set_voxel_masks_tensor_shift_1:2x700x36,pos_embed_tensor:4x2x20000x192 \\\n",
    "# --maxShapes=src:35000x192,set_voxel_inds_tensor_shift_0:2x1500x36,set_voxel_inds_tensor_shift_1:2x1200x36,set_voxel_masks_tensor_shift_0:2x1500x36,set_voxel_masks_tensor_shift_1:2x1200x36,pos_embed_tensor:4x2x35000x192 \n",
    "\n",
    "\n",
    "# !trtexec --onnx=./deploy_pillar_sfaw_3d_origin/deploy_pillar_sfaw_3d_origin.onnx  --saveEngine=./deploy_pillar_sfaw_3d/dsvt_3d_bb_origin.engine --verbose   --fp16\n",
    "\n",
    "# --optShapes=src:962x192,set_voxel_inds_tensor_shift_0:2x40x36,set_voxel_inds_tensor_shift_1:2x34x36,set_voxel_masks_tensor_shift_0:2x40x36,set_voxel_masks_tensor_shift_1:2x34x36,pos_embed_tensor:4x2x962x192 \\\n",
    "# --optShapes=src:20000x192,set_voxel_inds_tensor_shift_0:2x1000x36,set_voxel_inds_tensor_shift_1:2x700x36,set_voxel_masks_tensor_shift_0:2x1000x36,set_voxel_masks_tensor_shift_1:2x700x36,pos_embed_tensor:4x2x20000x192 \\\n",
    "# --maxShapes=src:35000x192,set_voxel_inds_tensor_shift_0:2x1500x36,set_voxel_inds_tensor_shift_1:2x1200x36,set_voxel_masks_tensor_shift_0:2x1500x36,set_voxel_masks_tensor_shift_1:2x1200x36,pos_embed_tensor:4x2x35000x192 \n"
   ]
  },
  {
   "cell_type": "code",
   "execution_count": 8,
   "id": "770ea0b4-0a87-4f8b-8366-6f1641d1fc73",
   "metadata": {},
   "outputs": [
    {
     "name": "stderr",
     "output_type": "stream",
     "text": [
      "fatal: detected dubious ownership in repository at '/mnt/nas2/users/eslim/workspace/OpenPCDet'\n",
      "To add an exception for this directory, call:\n",
      "\n",
      "\tgit config --global --add safe.directory /mnt/nas2/users/eslim/workspace/OpenPCDet\n"
     ]
    }
   ],
   "source": [
    "import numpy as np\n",
    "import tensorrt as trt\n",
    "import torch\n",
    "from pcdet.config import cfg, cfg_from_yaml_file\n",
    "from pcdet.models import build_network\n",
    "from pcdet.datasets import build_dataloader\n",
    "from pcdet.utils import common_utils\n",
    "# import pycuda.driver as cuda\n",
    "# import pycuda.autoinit\n",
    "# import torch_tensorrt\n",
    "\n",
    "# import pycuda.driver as cuda\n",
    "# import pycuda.autoinit"
   ]
  },
  {
   "cell_type": "code",
   "execution_count": 9,
   "id": "ea8aedf6-2698-4a84-9dc6-0f914e4c1e8c",
   "metadata": {},
   "outputs": [
    {
     "name": "stderr",
     "output_type": "stream",
     "text": [
      "2024-04-16 10:43:45,073   INFO  Loading Custom dataset.\n",
      "2024-04-16 10:43:45,075   INFO  Total samples for CUSTOM dataset: 0\n",
      "2024-04-16 10:43:47,283   INFO  ==> Loading parameters from checkpoint ./pillar/model.pth to GPU\n",
      "2024-04-16 10:43:47,420   INFO  ==> Checkpoint trained from version: pcdet+0.6.0+255db8f\n",
      "2024-04-16 10:43:47,458   INFO  ==> Done (loaded 391/391)\n"
     ]
    }
   ],
   "source": [
    "####### load model #######\n",
    "# cfg_file = \"./cfgs/dsvt_models/dsvt_plain_1f_onestage.yaml\"\n",
    "# cfg_from_yaml_file(cfg_file, cfg)\n",
    "# if os.path.exists('./deploy_files')==False:\n",
    "#     os.mkdir('./deploy_files')\n",
    "# log_file = './deploy_files/log_trt.log'\n",
    "\n",
    "cfg_file = \"./pillar/config.yaml\"\n",
    "cfg_from_yaml_file(cfg_file, cfg)\n",
    "if os.path.exists('./deploy_pillar_sfaw_2d_rev')==False:\n",
    "    os.mkdir('./deploy_pillar_sfaw_2d_rev')\n",
    "log_file = './deploy_pillar_sfaw_2d_rev/log_trt.log'\n",
    "\n",
    "logger = common_utils.create_logger(log_file, rank=0)\n",
    "test_set, test_loader, sampler = build_dataloader(\n",
    "    dataset_cfg=cfg.DATA_CONFIG,\n",
    "    class_names=cfg.CLASS_NAMES,\n",
    "    batch_size=1,\n",
    "    dist=False, workers=8, logger=logger, training=False\n",
    ")\n",
    "\n",
    "model = build_network(model_cfg=cfg.MODEL, num_class=len(cfg.CLASS_NAMES), dataset=test_set)\n",
    "ckpt = \"./pillar/model.pth\"\n",
    "\n",
    "model.load_params_from_file(filename=ckpt, logger=logger, to_cpu=False, pre_trained_path=None)\n",
    "model.eval()\n",
    "model.cuda()\n",
    "####### load model #######\n",
    "\n",
    "####### read input #######\n",
    "batch_dict = torch.load(\"/mnt/nas2/users/eslim/onnx/sfaw/input_dict.pth\", map_location=\"cuda\")\n",
    "inputs = batch_dict\n"
   ]
  },
  {
   "cell_type": "code",
   "execution_count": 10,
   "id": "eae43dfd-a927-4233-bff6-03eebc5048d0",
   "metadata": {
    "scrolled": true
   },
   "outputs": [
    {
     "data": {
      "text/plain": [
       "dict_keys(['points', 'frame_id', 'lidar_aug_matrix', 'use_lead_xyz', 'batch_size', 'pillar_features', 'voxel_features', 'voxel_coords'])"
      ]
     },
     "execution_count": 10,
     "metadata": {},
     "output_type": "execute_result"
    }
   ],
   "source": [
    "inputs_vfe = model.vfe(inputs)\n",
    "inputs_3d = model.backbone_3d(inputs_vfe)\n",
    "# inputs_bev = model.map_to_bev_module(inputs_3d)\n",
    "# inputs_2d = model.map_to_bev_module(inputs_bev)\n",
    "\n",
    "# inputs_bev\n",
    "# inputs_bev[\"spatial_features\"]\n",
    "inputs_3d.keys()"
   ]
  },
  {
   "cell_type": "code",
   "execution_count": 11,
   "id": "ae5a9e35-ab4f-497a-a6e1-6ca005b969f7",
   "metadata": {},
   "outputs": [],
   "source": [
    "# inputs_vfe[\"spatial_features\"]"
   ]
  },
  {
   "cell_type": "code",
   "execution_count": 12,
   "id": "5d7730b3-ce89-45b0-bcb3-056b207423ce",
   "metadata": {},
   "outputs": [],
   "source": [
    "# inputs_3d.keys()"
   ]
  },
  {
   "cell_type": "code",
   "execution_count": 13,
   "id": "e00ee598-7fca-40f4-90e0-fe302ffe9589",
   "metadata": {},
   "outputs": [],
   "source": [
    "# with torch.no_grad():\n",
    "#     DSVT_2d_Backbone = model.backbone_2d\n",
    "#     # dsvtblocks_list = DSVT_Backbone.stage_0\n",
    "#     # layer_norms_list = DSVT_Backbone.residual_norm_stage_0\n",
    "#     # inputs = model.vfe(inputs)\n",
    "#     # voxel_info = DSVT_Backbone.input_layer(inputs)\n",
    "#     # set_voxel_inds_list = [[voxel_info[f'set_voxel_inds_stage{s}_shift{i}'] for i in range(2)] for s in range(1)]\n",
    "#     # set_voxel_masks_list = [[voxel_info[f'set_voxel_mask_stage{s}_shift{i}'] for i in range(2)] for s in range(1)]\n",
    "#     # pos_embed_list = [[[voxel_info[f'pos_embed_stage{s}_block{b}_shift{i}'] for i in range(2)] for b in range(4)] for s in range(1)]\n",
    "\n"
   ]
  },
  {
   "cell_type": "code",
   "execution_count": 14,
   "id": "dc9e7635-abd0-4697-8992-91cecb2b6479",
   "metadata": {},
   "outputs": [],
   "source": [
    "# input_names = [\n",
    "#     'voxel_features',\n",
    "#     'use_lead_xyz',\n",
    "#     'batch_size',\n",
    "#     'pillar_features',\n",
    "#     'voxel_coords',\n",
    "#     'spatial_features'\n",
    "# ]\n",
    "# output_names = [\"output\",]\n",
    "trt_path = './deploy_pillar_sfaw_bev_rev/dsvt_bev.engine'\n",
    "\n",
    "input_names = [\n",
    "    # 'voxel_features',\n",
    "    # 'use_lead_xyz',\n",
    "    # 'batch_size',\n",
    "    'pillar_features',\n",
    "    'voxel_coords',\n",
    "]\n",
    "output_names = [\"output\"]"
   ]
  },
  {
   "cell_type": "code",
   "execution_count": 15,
   "id": "74f5592a-abb8-4d85-ba0f-d1cb80ea6bca",
   "metadata": {
    "scrolled": true
   },
   "outputs": [],
   "source": [
    "# data_dict = {}\n",
    "input_dict = {}\n",
    "# input_dict['voxel_features'] = inputs_3d['voxel_features']\n",
    "# input_dict['batch_dict']['use_lead_xyz'] = inputs_3d['use_lead_xyz']\n",
    "# input_dict['batch_size'] = torch.tensor(inputs_3d['batch_size'])\n",
    "input_dict['pillar_features'] = inputs_3d['pillar_features']\n",
    "input_dict['voxel_coords'] = inputs_3d['voxel_coords']\n",
    "# input_dict['data_dict']['spatial_features'] = inputs_3d['spatial_features']\n",
    "\n",
    "# data_dict.update(inputs_bev)\n",
    "# data_dict\n",
    "# input_dict"
   ]
  },
  {
   "cell_type": "code",
   "execution_count": 16,
   "id": "6e551de7-7dc0-4a78-92b2-a58f0277248f",
   "metadata": {},
   "outputs": [],
   "source": [
    "# output = input_dict['voxel_features']\n",
    "# outputs = 7*[None]\n",
    "# outputs[0] = torch.empty(input_dict['voxel_features'].shape).to('cuda:0')\n",
    "# outputs[1] = torch.empty(input_dict['use_lead_xyz'].shape).to('cuda:0')\n",
    "# outputs[2] = torch.empty(input_dict['batch_size'].shape).to('cuda:0')\n",
    "# outputs[3] = torch.empty(input_dict['pillar_features'].shape).to('cuda:0')\n",
    "# outputs[4] = torch.empty(input_dict['voxel_coords'].shape).to('cuda:0')\n",
    "# outputs[5] = torch.empty(input_dict['spatial_features'].shape).to('cuda:0')\n",
    "# outputs[6] = torch.empty(input_dict['spatial_features'].shape).to('cuda:0')\n",
    "output = torch.empty([1, 192, 468, 468]).to('cuda:0')\n",
    "# output = input_dict['spatial_features']"
   ]
  },
  {
   "cell_type": "code",
   "execution_count": 17,
   "id": "d6591503-c201-4084-b6f1-f010563303b3",
   "metadata": {},
   "outputs": [],
   "source": [
    "# input_dict['pillar_features'].shape\n"
   ]
  },
  {
   "cell_type": "code",
   "execution_count": 18,
   "id": "6079288e-e20e-4e97-a453-587bcabb82c6",
   "metadata": {},
   "outputs": [
    {
     "data": {
      "text/plain": [
       "torch.Size([1, 192, 468, 468])"
      ]
     },
     "execution_count": 18,
     "metadata": {},
     "output_type": "execute_result"
    }
   ],
   "source": [
    "output.size()\n",
    "# output = torch.empty([10000, 10000]).to('cuda:0')\n",
    "# set_voxel_inds_list[0][0].int().size()"
   ]
  },
  {
   "cell_type": "code",
   "execution_count": 19,
   "id": "83f34fc0-a9a9-4f47-926f-243990444dcd",
   "metadata": {},
   "outputs": [],
   "source": [
    "# tensor([[-1.0312, -0.2234, -0.2581,  ..., -1.2207,  0.0303, -0.2534],\n",
    "#         [ 0.0000,  0.0686,  0.0000,  ...,  0.0079,  0.0000,  0.0000],\n",
    "#         [ 0.0000,  0.0000,  0.0000,  ...,  0.0000,  0.0000,  0.0000],\n",
    "#         ...,\n",
    "#         [ 0.5312,  0.4485,  0.0000,  ...,  0.0691,  0.0000,  0.5523],\n",
    "#         [ 0.0000,  0.4938,  0.0000,  ...,  0.0557,  0.0000,  0.0000],\n",
    "#         [ 0.0000,  0.4529,  0.0000,  ...,  0.0210,  0.0000,  0.0000]],\n",
    "#        device='cuda:0', grad_fn=<CloneBackward0>)"
   ]
  },
  {
   "cell_type": "code",
   "execution_count": 20,
   "id": "04f01935-fb7e-4baa-b925-8ce9c77c9da6",
   "metadata": {},
   "outputs": [],
   "source": [
    "def load_trt_engine(path: str) -> trt.ICudaEngine:\n",
    "    \"\"\"Deserialize TensorRT engine from disk.\n",
    "\n",
    "    Args:\n",
    "        path (str): The disk path to read the engine.\n",
    "\n",
    "    Returns:\n",
    "        tensorrt.ICudaEngine: The TensorRT engine loaded from disk.\n",
    "    \"\"\"\n",
    "    # load_tensorrt_plugin()\n",
    "    with trt.Logger() as logger, trt.Runtime(logger) as runtime:\n",
    "        with open(path, mode='rb') as f:\n",
    "            engine_bytes = f.read()\n",
    "        engine = runtime.deserialize_cuda_engine(engine_bytes)\n",
    "        print(f\"TensorRT engine {path} successfully loaded.\")\n",
    "        return engine"
   ]
  },
  {
   "cell_type": "code",
   "execution_count": 21,
   "id": "f7216823-eba6-4339-a065-596acbdc2857",
   "metadata": {},
   "outputs": [
    {
     "name": "stdout",
     "output_type": "stream",
     "text": [
      "TensorRT engine ./deploy_pillar_sfaw_bev_rev/dsvt_bev.engine successfully loaded.\n",
      "[04/16/2024-10:43:54] [TRT] [W] CUDA lazy loading is not enabled. Enabling it can significantly reduce device memory usage and speed up TensorRT initialization. See \"Lazy Loading\" section of CUDA documentation https://docs.nvidia.com/cuda/cuda-c-programming-guide/index.html#lazy-loading\n"
     ]
    }
   ],
   "source": [
    "trt.init_libnvinfer_plugins(None, '')\n",
    "if isinstance(trt_path, str):\n",
    "    engine = load_trt_engine(trt_path)\n",
    "\n",
    "if not isinstance(engine, trt.ICudaEngine):\n",
    "    raise TypeError(f'`engine` should be str or trt.ICudaEngine, \\\n",
    "        but given: {type(engine)}')\n",
    "\n",
    "context = engine.create_execution_context()"
   ]
  },
  {
   "cell_type": "code",
   "execution_count": 22,
   "id": "d8568c94-f0ae-4956-b222-a29e89eba1f8",
   "metadata": {},
   "outputs": [],
   "source": [
    "# context.set_tensor_address(\"src\", ptr)\n"
   ]
  },
  {
   "cell_type": "code",
   "execution_count": 24,
   "id": "bf247ae6-0eaf-4d61-b93b-e456ddee1212",
   "metadata": {},
   "outputs": [
    {
     "data": {
      "text/plain": [
       "'output'"
      ]
     },
     "execution_count": 24,
     "metadata": {},
     "output_type": "execute_result"
    }
   ],
   "source": [
    "# inputs.items()\n",
    "engine.get_tensor_name(0)\n",
    "engine.get_tensor_name(1)\n",
    "engine.get_tensor_name(2)\n",
    "# engine.get_tensor_name(3)\n",
    "# engine.get_tensor_name(4)\n",
    "# engine.get_tensor_name(5)\n",
    "# engine.get_tensor_name(6)\n",
    "\n"
   ]
  },
  {
   "cell_type": "code",
   "execution_count": 25,
   "id": "9efc2917-a70c-48a3-84ae-076fd7c41a9f",
   "metadata": {},
   "outputs": [
    {
     "data": {
      "text/plain": [
       "[(1, 192, 468, 468), (1, 192, 468, 468), (1, 192, 468, 468)]"
      ]
     },
     "execution_count": 25,
     "metadata": {},
     "output_type": "execute_result"
    }
   ],
   "source": [
    "# src_shape = engine.get_tensor_profile_shape(\"src\", 0)[0]\n",
    "engine.get_tensor_profile_shape(\"output\", 0)"
   ]
  },
  {
   "cell_type": "code",
   "execution_count": 26,
   "id": "931c8441-7ec1-471f-8c8d-d1b98e68a512",
   "metadata": {},
   "outputs": [],
   "source": [
    "# engine.get_tensor_profile_values(0,\"src\")\n",
    "# input_host_mem = cuda.pagelocked_empty(trt.volume(src_shape) * trt.float32.itemsize)\n",
    "\n",
    "# bindings = [None] * (len(input_names) + len(output_names))\n",
    "\n",
    "# bindings"
   ]
  },
  {
   "cell_type": "code",
   "execution_count": 27,
   "id": "921d19e3-5edb-4ac9-bdd0-ea18c56e7b8c",
   "metadata": {},
   "outputs": [],
   "source": [
    "# context.execute_async_v3(\n",
    "#             bindings,\n",
    "#             torch.cuda.current_stream().cuda_stream,\n",
    "#         )\n"
   ]
  },
  {
   "cell_type": "code",
   "execution_count": 28,
   "id": "d444676c-503c-4cba-8b36-bce4065b3361",
   "metadata": {},
   "outputs": [
    {
     "data": {
      "text/plain": [
       "'voxel_coords'"
      ]
     },
     "execution_count": 28,
     "metadata": {},
     "output_type": "execute_result"
    }
   ],
   "source": [
    "# engine.get_profile_shape(0,\"src\")\n",
    "# engine.get_tensor_location(\"src\")\n",
    "# engine.get_tensor_format(\"src\")\n",
    "engine.get_tensor_name(1)\n",
    "# engine.get_tensor_profile_values(0,\"src\")"
   ]
  },
  {
   "cell_type": "code",
   "execution_count": 29,
   "id": "10535336-8c49-49b6-ab4a-25ed756c3f01",
   "metadata": {},
   "outputs": [],
   "source": [
    "# profile = self.engine.get_profile_shape(profile_id, input_name)\n",
    "# assert input_tensor.dim() == len(\n",
    "#     profile[0]), 'Input dim is different from engine profile.'\n",
    "# for s_min, s_input, s_max in zip(eval(repr(profile[0])), input_tensor.shape,\n",
    "#                                  eval(repr(profile[2]))):\n",
    "#     assert s_min <= s_input <= s_max, \\\n",
    "#         f'Input shape of {input_name} should be between ' \\\n",
    "#         + f'{profile[0]} and {profile[2]}' \\\n",
    "#         + f' but get {tuple(input_tensor.shape)}.'"
   ]
  },
  {
   "cell_type": "code",
   "execution_count": 30,
   "id": "497d0c72-81c4-4ec1-a5d4-30e60288239b",
   "metadata": {},
   "outputs": [
    {
     "name": "stdout",
     "output_type": "stream",
     "text": [
      "input_name: pillar_features\n",
      "profile : [(962, 192), (962, 192), (962, 192)]\n",
      "type : torch.float32\n",
      "shape : torch.Size([962, 192])\n",
      "======\n",
      "convert long to int\n",
      "input_name: voxel_coords\n",
      "profile : [(962, 4), (962, 4), (962, 4)]\n",
      "type : torch.int32\n",
      "shape : torch.Size([962, 4])\n",
      "======\n"
     ]
    },
    {
     "name": "stderr",
     "output_type": "stream",
     "text": [
      "/tmp/ipykernel_3066432/4173236747.py:7: DeprecationWarning: Use get_tensor_profile_shape instead.\n",
      "  profile = engine.get_profile_shape(profile_id,input_name)\n"
     ]
    }
   ],
   "source": [
    "bindings = [None] * (len(input_names) + len(output_names))\n",
    "\n",
    "# https://github.dev/Haiyang-W/DSVT , dsvt.py -> 384line\n",
    "profile_id = 0\n",
    "idx = 0\n",
    "for input_name, input_tensor in input_dict.items():    \n",
    "    profile = engine.get_profile_shape(profile_id,input_name)\n",
    "    if input_tensor.dtype == torch.long:\n",
    "        input_tensor=input_tensor.int()\n",
    "        print(\"convert long to int\")\n",
    "    print(f'input_name: {input_name}')\n",
    "    print(f'profile : {profile}')\n",
    "    print(f'type : {input_tensor.dtype}')\n",
    "    print(f'shape : {input_tensor.size()}')\n",
    "    print(\"======\")\n",
    "    context.set_input_shape(input_name,tuple(input_tensor.shape))\n",
    "    bindings[idx] = input_tensor.contiguous().data_ptr()\n",
    "    idx+=1\n",
    "# get_binding_index"
   ]
  },
  {
   "cell_type": "code",
   "execution_count": 31,
   "id": "6ff836cf-3242-4b63-b934-291f1358243e",
   "metadata": {},
   "outputs": [
    {
     "data": {
      "text/plain": [
       "[139721452504576, 139723328652800, None]"
      ]
     },
     "execution_count": 31,
     "metadata": {},
     "output_type": "execute_result"
    }
   ],
   "source": [
    "bindings"
   ]
  },
  {
   "cell_type": "code",
   "execution_count": 32,
   "id": "b91630fd-ed8f-4c62-8c57-c1635cb7b98e",
   "metadata": {},
   "outputs": [
    {
     "data": {
      "text/plain": [
       "torch.Size([1, 192, 468, 468])"
      ]
     },
     "execution_count": 32,
     "metadata": {},
     "output_type": "execute_result"
    }
   ],
   "source": [
    "output.shape\n",
    "# profile = engine.get_profile_shape(0,\"output\")\n",
    "\n",
    "# output_shape = profile[0]\n",
    "# output = "
   ]
  },
  {
   "cell_type": "code",
   "execution_count": 33,
   "id": "386a6aab-5bb9-4a95-8bbe-80852b012ece",
   "metadata": {},
   "outputs": [],
   "source": [
    "# context.set_input_shape(\"output\",tuple(output_shape))\n",
    "\n",
    "bindings[-1] = output.data_ptr()\n",
    "# for idx, output in enumerate(outputs):\n",
    "    # print(output.shape)\n",
    "    # bindings[idx+6] = output.data_ptr()\n",
    "\n",
    "# for output_name in output_names:\n",
    "    # print(output_name)\n",
    "    # idx = self.engine.get_binding_index(output_name)\n",
    "    # dtype = torch_dtype_from_trt(self.engine.get_binding_dtype(idx))\n",
    "    # shape = eval(repr(self.context.get_binding_shape(idx)))\n",
    "\n",
    "    # device = torch_device_from_trt(self.engine.get_location(idx))\n",
    "    # output = torch.empty(size=shape, dtype=dtype, device=device)\n",
    "    # outputs[output_name] = output\n",
    "    # bindings[idx] = output.data_ptr()\n"
   ]
  },
  {
   "cell_type": "code",
   "execution_count": 34,
   "id": "6453eac7-a545-4525-8b66-df6935d545ac",
   "metadata": {},
   "outputs": [
    {
     "data": {
      "text/plain": [
       "[139721452504576, 139723328652800, 139720789065728]"
      ]
     },
     "execution_count": 34,
     "metadata": {},
     "output_type": "execute_result"
    }
   ],
   "source": [
    "bindings"
   ]
  },
  {
   "cell_type": "code",
   "execution_count": 35,
   "id": "b1f0b133-b95d-4c5c-ab59-18561894d08b",
   "metadata": {},
   "outputs": [
    {
     "data": {
      "text/plain": [
       "True"
      ]
     },
     "execution_count": 35,
     "metadata": {},
     "output_type": "execute_result"
    }
   ],
   "source": [
    "context.execute_v2(\n",
    "            bindings\n",
    "        )\n"
   ]
  },
  {
   "cell_type": "code",
   "execution_count": 36,
   "id": "32a0269b-6d89-4e7d-b1b6-9212a013a864",
   "metadata": {},
   "outputs": [
    {
     "data": {
      "text/plain": [
       "torch.Size([1, 192, 468, 468])"
      ]
     },
     "execution_count": 36,
     "metadata": {},
     "output_type": "execute_result"
    }
   ],
   "source": [
    "output.size()\n"
   ]
  },
  {
   "cell_type": "code",
   "execution_count": 37,
   "id": "a71c5274-a564-4345-8e2b-df039e41d081",
   "metadata": {},
   "outputs": [
    {
     "data": {
      "text/plain": [
       "tensor([[[[ 0.1826,  0.0000,  0.0000,  ...,  0.0000,  0.0000,  0.0000],\n",
       "          [ 0.0000,  0.0000,  0.0000,  ...,  0.0000,  0.0000,  0.0000],\n",
       "          [ 0.0000,  0.0000,  0.0000,  ...,  0.0000,  0.0000,  0.0000],\n",
       "          ...,\n",
       "          [ 0.0000,  0.0000,  0.0000,  ...,  0.0000,  0.0000,  0.0000],\n",
       "          [ 0.0000,  0.0000,  0.0000,  ...,  0.0000,  0.0000,  0.0000],\n",
       "          [ 0.0000,  0.0000,  0.0000,  ...,  0.0000,  0.0000,  0.0000]],\n",
       "\n",
       "         [[ 0.2368,  0.0000,  0.0000,  ...,  0.0000,  0.0000,  0.0000],\n",
       "          [ 0.0000,  0.0000,  0.0000,  ...,  0.0000,  0.0000,  0.0000],\n",
       "          [ 0.0000,  0.0000,  0.0000,  ...,  0.0000,  0.0000,  0.0000],\n",
       "          ...,\n",
       "          [ 0.0000,  0.0000,  0.0000,  ...,  0.0000,  0.0000,  0.0000],\n",
       "          [ 0.0000,  0.0000,  0.0000,  ...,  0.0000,  0.0000,  0.0000],\n",
       "          [ 0.0000,  0.0000,  0.0000,  ...,  0.0000,  0.0000,  0.0000]],\n",
       "\n",
       "         [[ 0.1064,  0.0000,  0.0000,  ...,  0.0000,  0.0000,  0.0000],\n",
       "          [ 0.0000,  0.0000,  0.0000,  ...,  0.0000,  0.0000,  0.0000],\n",
       "          [ 0.0000,  0.0000,  0.0000,  ...,  0.0000,  0.0000,  0.0000],\n",
       "          ...,\n",
       "          [ 0.0000,  0.0000,  0.0000,  ...,  0.0000,  0.0000,  0.0000],\n",
       "          [ 0.0000,  0.0000,  0.0000,  ...,  0.0000,  0.0000,  0.0000],\n",
       "          [ 0.0000,  0.0000,  0.0000,  ...,  0.0000,  0.0000,  0.0000]],\n",
       "\n",
       "         ...,\n",
       "\n",
       "         [[ 0.0364,  0.0000,  0.0000,  ...,  0.0000,  0.0000,  0.0000],\n",
       "          [ 0.0000,  0.0000,  0.0000,  ...,  0.0000,  0.0000,  0.0000],\n",
       "          [ 0.0000,  0.0000,  0.0000,  ...,  0.0000,  0.0000,  0.0000],\n",
       "          ...,\n",
       "          [ 0.0000,  0.0000,  0.0000,  ...,  0.0000,  0.0000,  0.0000],\n",
       "          [ 0.0000,  0.0000,  0.0000,  ...,  0.0000,  0.0000,  0.0000],\n",
       "          [ 0.0000,  0.0000,  0.0000,  ...,  0.0000,  0.0000,  0.0000]],\n",
       "\n",
       "         [[-0.0583,  0.0000,  0.0000,  ...,  0.0000,  0.0000,  0.0000],\n",
       "          [ 0.0000,  0.0000,  0.0000,  ...,  0.0000,  0.0000,  0.0000],\n",
       "          [ 0.0000,  0.0000,  0.0000,  ...,  0.0000,  0.0000,  0.0000],\n",
       "          ...,\n",
       "          [ 0.0000,  0.0000,  0.0000,  ...,  0.0000,  0.0000,  0.0000],\n",
       "          [ 0.0000,  0.0000,  0.0000,  ...,  0.0000,  0.0000,  0.0000],\n",
       "          [ 0.0000,  0.0000,  0.0000,  ...,  0.0000,  0.0000,  0.0000]],\n",
       "\n",
       "         [[ 0.3088,  0.0000,  0.0000,  ...,  0.0000,  0.0000,  0.0000],\n",
       "          [ 0.0000,  0.0000,  0.0000,  ...,  0.0000,  0.0000,  0.0000],\n",
       "          [ 0.0000,  0.0000,  0.0000,  ...,  0.0000,  0.0000,  0.0000],\n",
       "          ...,\n",
       "          [ 0.0000,  0.0000,  0.0000,  ...,  0.0000,  0.0000,  0.0000],\n",
       "          [ 0.0000,  0.0000,  0.0000,  ...,  0.0000,  0.0000,  0.0000],\n",
       "          [ 0.0000,  0.0000,  0.0000,  ...,  0.0000,  0.0000,  0.0000]]]],\n",
       "       device='cuda:0')"
      ]
     },
     "execution_count": 37,
     "metadata": {},
     "output_type": "execute_result"
    }
   ],
   "source": [
    "output"
   ]
  },
  {
   "cell_type": "code",
   "execution_count": 34,
   "id": "66021eb8-8297-480f-aaf9-0aa89d087f70",
   "metadata": {},
   "outputs": [],
   "source": [
    "# context.execute_async_v3(bindings[0])"
   ]
  },
  {
   "cell_type": "code",
   "execution_count": 35,
   "id": "efaa2d63-83fe-413f-8157-b146f30a51b9",
   "metadata": {},
   "outputs": [],
   "source": [
    "####\n"
   ]
  }
 ],
 "metadata": {
  "kernelspec": {
   "display_name": "Python 3 (ipykernel)",
   "language": "python",
   "name": "python3"
  },
  "language_info": {
   "codemirror_mode": {
    "name": "ipython",
    "version": 3
   },
   "file_extension": ".py",
   "mimetype": "text/x-python",
   "name": "python",
   "nbconvert_exporter": "python",
   "pygments_lexer": "ipython3",
   "version": "3.8.10"
  }
 },
 "nbformat": 4,
 "nbformat_minor": 5
}
