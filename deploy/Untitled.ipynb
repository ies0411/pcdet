{
 "cells": [
  {
   "cell_type": "code",
   "execution_count": 5,
   "id": "3a3ef25c-911f-4109-895b-b54a6e273a0d",
   "metadata": {},
   "outputs": [],
   "source": [
    "import numpy as np\n",
    "a=[np.array([[ 4.476,  1.778,  1.551, 43.418, -5.292, -0.37 ,  2.633,  0.605,\n",
    "         3.   ],\n",
    "       [ 3.955,  1.68 ,  1.585, 17.749, -3.451, -0.72 ,  6.13 ,  0.744,\n",
    "         2.   ],\n",
    "       [ 4.087,  1.801,  1.694, -8.079,  8.028, -0.827,  3.015,  0.859,\n",
    "         1.   ]])]"
   ]
  },
  {
   "cell_type": "code",
   "execution_count": 6,
   "id": "e4d2e29f-74d9-4c5c-b85f-f3cb51d63323",
   "metadata": {},
   "outputs": [
    {
     "data": {
      "text/plain": [
       "array([[ 4.476,  1.778,  1.551, 43.418, -5.292, -0.37 ,  2.633,  0.605,\n",
       "         3.   ],\n",
       "       [ 3.955,  1.68 ,  1.585, 17.749, -3.451, -0.72 ,  6.13 ,  0.744,\n",
       "         2.   ],\n",
       "       [ 4.087,  1.801,  1.694, -8.079,  8.028, -0.827,  3.015,  0.859,\n",
       "         1.   ]])"
      ]
     },
     "execution_count": 6,
     "metadata": {},
     "output_type": "execute_result"
    }
   ],
   "source": [
    "a = a[0]\n",
    "a"
   ]
  },
  {
   "cell_type": "code",
   "execution_count": 7,
   "id": "72a2912c-b553-49f5-9d58-779b35237c6b",
   "metadata": {},
   "outputs": [
    {
     "data": {
      "text/plain": [
       "array([ 4.476,  1.778,  1.551, 43.418, -5.292, -0.37 ,  2.633,  0.605,\n",
       "        3.   ])"
      ]
     },
     "execution_count": 7,
     "metadata": {},
     "output_type": "execute_result"
    }
   ],
   "source": [
    "a[0]"
   ]
  }
 ],
 "metadata": {
  "kernelspec": {
   "display_name": "Python 3 (ipykernel)",
   "language": "python",
   "name": "python3"
  },
  "language_info": {
   "codemirror_mode": {
    "name": "ipython",
    "version": 3
   },
   "file_extension": ".py",
   "mimetype": "text/x-python",
   "name": "python",
   "nbconvert_exporter": "python",
   "pygments_lexer": "ipython3",
   "version": "3.8.10"
  }
 },
 "nbformat": 4,
 "nbformat_minor": 5
}
