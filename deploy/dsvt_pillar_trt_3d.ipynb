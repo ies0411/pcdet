{
 "cells": [
  {
   "cell_type": "code",
   "execution_count": 1,
   "id": "5367841a-db44-47da-ac41-923c5f82f4e1",
   "metadata": {},
   "outputs": [],
   "source": [
    "import os\n",
    "os.environ[\"CUDA_VISIBLE_DEVICES\"]=\"2\"\n",
    "# 코드에서 nms제외해야함"
   ]
  },
  {
   "cell_type": "code",
   "execution_count": 2,
   "id": "9aa41efc-82ea-4e45-bd9b-7f910a81df94",
   "metadata": {},
   "outputs": [],
   "source": [
    "# !python3 -m pip install --pre-upgrade tensorrt\n",
    "# !pip install pycuda"
   ]
  },
  {
   "cell_type": "code",
   "execution_count": null,
   "id": "7b385e2e-4ab7-4f1e-a7d3-9799101350f6",
   "metadata": {},
   "outputs": [],
   "source": []
  },
  {
   "cell_type": "code",
   "execution_count": 3,
   "id": "875dbfda-d810-428b-a6c3-48eddb22a569",
   "metadata": {},
   "outputs": [],
   "source": [
    "# !python3 -m pip install --pre --upgrade tensorrt\n",
    "# !apt-get install tensorrt -y\n",
    "# !wget https://developer.nvidia.com/downloads/compute/machine-learning/tensorrt/10.0.0/tars/TensorRT-10.0.0.6.Linux.x86_64-gnu.cuda-11.8.tar.gz\n",
    "\n",
    "# python3 -m pip install tensorrt-10.0.0b6-cp38-none-linux_x86_64.whl\n",
    "# export PATH=/path/to/tensorrt/bin:$PATH\n",
    "# export LD_LIBRARY_PATH=<TensorRT-${version}/lib>:$LD_LIBRARY_PATH\n",
    "# source ~/.bashrc\n",
    "# https://docs.nvidia.com/deeplearning/tensorrt/install-guide/index.html#installing-tar\n",
    "# https://da2so.tistory.com/61"
   ]
  },
  {
   "cell_type": "code",
   "execution_count": 4,
   "id": "c47c2a81-7429-437b-98fe-b70754366732",
   "metadata": {},
   "outputs": [],
   "source": [
    "# base_name = \"./deploy_pillar_sfaw_3d/dsvt_3d_bb.onnx\"\n",
    "# --memPoolSize=workspace:4096\n",
    "# --device=1\n",
    "# --buildOnly\n",
    "# --tacticSources=+CUDNN,+CUBLAS,-CUBLAS_LT,+EDGE_MASK_CONVOLUTIONS \\\n",
    "# --minShapes=src:3000x192,set_voxel_inds_tensor_shift_0:2x170x36,set_voxel_inds_tensor_shift_1:2x100x36,set_voxel_masks_tensor_shift_0:2x170x36,set_voxel_masks_tensor_shift_1:2x100x36,pos_embed_tensor:4x2x3000x192 \\\n",
    "# --optShapes=src:20000x192,set_voxel_inds_tensor_shift_0:2x1000x36,set_voxel_inds_tensor_shift_1:2x700x36,set_voxel_masks_tensor_shift_0:2x1000x36,set_voxel_masks_tensor_shift_1:2x700x36,pos_embed_tensor:4x2x20000x192 \\\n",
    "# --maxShapes=src:35000x192,set_voxel_inds_tensor_shift_0:2x1500x36,set_voxel_inds_tensor_shift_1:2x1200x36,set_voxel_masks_tensor_shift_0:2x1500x36,set_voxel_masks_tensor_shift_1:2x1200x36,pos_embed_tensor:4x2x35000x192 \n",
    "\n",
    "\n",
    "# !trtexec --onnx=./deploy_pillar_sfaw_3d_origin/deploy_pillar_sfaw_3d_origin.onnx  --saveEngine=./deploy_pillar_sfaw_3d/dsvt_3d_bb_origin.engine --verbose   --fp16\n",
    "\n",
    "# --optShapes=src:962x192,set_voxel_inds_tensor_shift_0:2x40x36,set_voxel_inds_tensor_shift_1:2x34x36,set_voxel_masks_tensor_shift_0:2x40x36,set_voxel_masks_tensor_shift_1:2x34x36,pos_embed_tensor:4x2x962x192 \\\n",
    "# --optShapes=src:20000x192,set_voxel_inds_tensor_shift_0:2x1000x36,set_voxel_inds_tensor_shift_1:2x700x36,set_voxel_masks_tensor_shift_0:2x1000x36,set_voxel_masks_tensor_shift_1:2x700x36,pos_embed_tensor:4x2x20000x192 \\\n",
    "# --maxShapes=src:35000x192,set_voxel_inds_tensor_shift_0:2x1500x36,set_voxel_inds_tensor_shift_1:2x1200x36,set_voxel_masks_tensor_shift_0:2x1500x36,set_voxel_masks_tensor_shift_1:2x1200x36,pos_embed_tensor:4x2x35000x192 \n"
   ]
  },
  {
   "cell_type": "code",
   "execution_count": 7,
   "id": "e72cf12d-ffdf-4df4-a776-a6df703e5d9c",
   "metadata": {},
   "outputs": [],
   "source": [
    "# torch.float32\n",
    "# torch.Size([962, 192])\n",
    "# torch.int32\n",
    "# torch.Size([2, 40, 36])\n",
    "# torch.int32\n",
    "# torch.Size([2, 34, 36])\n",
    "# torch.bool\n",
    "# torch.Size([2, 40, 36])\n",
    "# torch.bool\n",
    "# torch.Size([2, 34, 36])\n",
    "# torch.float32\n",
    "# torch.Size([4, 2, 962, 192])"
   ]
  },
  {
   "cell_type": "code",
   "execution_count": 8,
   "id": "770ea0b4-0a87-4f8b-8366-6f1641d1fc73",
   "metadata": {},
   "outputs": [
    {
     "name": "stderr",
     "output_type": "stream",
     "text": [
      "fatal: detected dubious ownership in repository at '/mnt/nas2/users/eslim/workspace/OpenPCDet'\n",
      "To add an exception for this directory, call:\n",
      "\n",
      "\tgit config --global --add safe.directory /mnt/nas2/users/eslim/workspace/OpenPCDet\n"
     ]
    }
   ],
   "source": [
    "import numpy as np\n",
    "import tensorrt as trt\n",
    "import torch\n",
    "from pcdet.config import cfg, cfg_from_yaml_file\n",
    "from pcdet.models import build_network\n",
    "from pcdet.datasets import build_dataloader\n",
    "from pcdet.utils import common_utils\n",
    "# import pycuda.driver as cuda\n",
    "# import pycuda.autoinit\n",
    "# import torch_tensorrt\n",
    "\n",
    "# import pycuda.driver as cuda\n",
    "# import pycuda.autoinit"
   ]
  },
  {
   "cell_type": "code",
   "execution_count": 9,
   "id": "dc9e7635-abd0-4697-8992-91cecb2b6479",
   "metadata": {},
   "outputs": [],
   "source": [
    "input_names = [\n",
    "    'src',\n",
    "    'set_voxel_inds_tensor_shift_0', \n",
    "    'set_voxel_inds_tensor_shift_1', \n",
    "    'set_voxel_masks_tensor_shift_0', \n",
    "    'set_voxel_masks_tensor_shift_1',\n",
    "    'pos_embed_tensor'\n",
    "]\n",
    "output_names = [\"output\",]\n",
    "trt_path = './deploy_pillar_sfaw_3d_origin/dsvt_3d_bb_origin_2.engine'\n"
   ]
  },
  {
   "cell_type": "code",
   "execution_count": 10,
   "id": "ea8aedf6-2698-4a84-9dc6-0f914e4c1e8c",
   "metadata": {},
   "outputs": [
    {
     "name": "stderr",
     "output_type": "stream",
     "text": [
      "2024-04-16 00:39:30,905   INFO  Loading Custom dataset.\n",
      "2024-04-16 00:39:30,907   INFO  Total samples for CUSTOM dataset: 0\n",
      "2024-04-16 00:39:33,048   INFO  ==> Loading parameters from checkpoint ./pillar/model.pth to GPU\n",
      "2024-04-16 00:39:33,176   INFO  ==> Checkpoint trained from version: pcdet+0.6.0+255db8f\n",
      "2024-04-16 00:39:33,210   INFO  ==> Done (loaded 391/391)\n"
     ]
    }
   ],
   "source": [
    "####### load model #######\n",
    "# cfg_file = \"./cfgs/dsvt_models/dsvt_plain_1f_onestage.yaml\"\n",
    "# cfg_from_yaml_file(cfg_file, cfg)\n",
    "# if os.path.exists('./deploy_files')==False:\n",
    "#     os.mkdir('./deploy_files')\n",
    "# log_file = './deploy_files/log_trt.log'\n",
    "\n",
    "cfg_file = \"./pillar/config.yaml\"\n",
    "cfg_from_yaml_file(cfg_file, cfg)\n",
    "if os.path.exists('./deploy_pillar_sfaw_3d_origin')==False:\n",
    "    os.mkdir('./deploy_pillar_sfaw_3d_origin')\n",
    "log_file = './deploy_pillar_sfaw_3d_origin/log_trt.log'\n",
    "\n",
    "logger = common_utils.create_logger(log_file, rank=0)\n",
    "test_set, test_loader, sampler = build_dataloader(\n",
    "    dataset_cfg=cfg.DATA_CONFIG,\n",
    "    class_names=cfg.CLASS_NAMES,\n",
    "    batch_size=1,\n",
    "    dist=False, workers=8, logger=logger, training=False\n",
    ")\n",
    "\n",
    "model = build_network(model_cfg=cfg.MODEL, num_class=len(cfg.CLASS_NAMES), dataset=test_set)\n",
    "ckpt = \"./pillar/model.pth\"\n",
    "\n",
    "model.load_params_from_file(filename=ckpt, logger=logger, to_cpu=False, pre_trained_path=None)\n",
    "model.eval()\n",
    "model.cuda()\n",
    "####### load model #######\n",
    "\n",
    "####### read input #######\n",
    "batch_dict = torch.load(\"/mnt/nas2/users/eslim/onnx/sfaw/input_dict.pth\", map_location=\"cuda\")\n",
    "inputs = batch_dict\n",
    "inputs = model.vfe(inputs)\n"
   ]
  },
  {
   "cell_type": "code",
   "execution_count": 11,
   "id": "e00ee598-7fca-40f4-90e0-fe302ffe9589",
   "metadata": {},
   "outputs": [],
   "source": [
    "# #TODO : input data , preprocessing\n",
    "\n",
    "# cfg_file = \"./pillar/config.yaml\"\n",
    "# cfg_from_yaml_file(cfg_file, cfg)\n",
    "# if os.path.exists('./deploy_pillar_sfaw_3d_origin')==False:\n",
    "#     os.mkdir('./deploy_pillar_sfaw_3d_origin')\n",
    "# log_file = './deploy_pillar_sfaw_3d_origin/log_trt.log'\n",
    "\n",
    "# logger = common_utils.create_logger(log_file, rank=0)\n",
    "# test_set, test_loader, sampler = build_dataloader(\n",
    "#     dataset_cfg=cfg.DATA_CONFIG,\n",
    "#     class_names=cfg.CLASS_NAMES,\n",
    "#     batch_size=1,\n",
    "#     dist=False, workers=8, logger=logger, training=False\n",
    "# )\n",
    "\n",
    "# model = build_network(model_cfg=cfg.MODEL, num_class=len(cfg.CLASS_NAMES), dataset=test_set)\n",
    "\n",
    "\n",
    "# batch_dict = torch.load(\"/mnt/nas2/users/eslim/onnx/sfaw/input_dict.pth\", map_location=\"cuda\")\n",
    "# inputs = batch_dict\n",
    "# inputs = model.vfe(inputs)\n",
    "# DSVT_Backbone = model.backbone_3d\n",
    "# dsvtblocks_list = DSVT_Backbone.stage_0\n",
    "# layer_norms_list = DSVT_Backbone.residual_norm_stage_0\n",
    "# inputs = model.vfe(inputs)\n",
    "# voxel_info = DSVT_Backbone.input_layer(inputs)\n",
    "# voxel_feat = voxel_info['voxel_feats_stage0']\n",
    "\n",
    "# pillar_features = inputs['voxel_features']\n",
    "# set_voxel_inds_list = [[voxel_info[f'set_voxel_inds_stage{s}_shift{i}'] for i in range(2)] for s in range(1)]\n",
    "# set_voxel_masks_list = [[voxel_info[f'set_voxel_mask_stage{s}_shift{i}'] for i in range(2)] for s in range(1)]\n",
    "# pos_embed_list = [[[voxel_info[f'pos_embed_stage{s}_block{b}_shift{i}'] for i in range(2)] for b in range(4)] for s in range(1)]\n",
    "\n",
    "# output = voxel_feat\n",
    "# inputs = dict(\n",
    "#         src=output,\n",
    "#         set_voxel_inds_tensor_shift_0=set_voxel_inds_list[0][0].int(),\n",
    "#         set_voxel_inds_tensor_shift_1=set_voxel_inds_list[0][1].int(),\n",
    "#         set_voxel_masks_tensor_shift_0=set_voxel_masks_list[0][0],\n",
    "#         set_voxel_masks_tensor_shift_1=set_voxel_masks_list[0][1],\n",
    "#         pos_embed_tensor=torch.stack([torch.stack(v, dim=0) for v in pos_embed_list[0]], dim=0),\n",
    "#     )"
   ]
  },
  {
   "cell_type": "code",
   "execution_count": 12,
   "id": "6079288e-e20e-4e97-a453-587bcabb82c6",
   "metadata": {},
   "outputs": [
    {
     "data": {
      "text/plain": [
       "tensor([[0.0000, 0.0458, 0.0000,  ..., 0.0303, 0.0000, 0.0000],\n",
       "        [0.0000, 0.0686, 0.0000,  ..., 0.0079, 0.0000, 0.0000],\n",
       "        [0.0000, 0.0000, 0.0000,  ..., 0.0000, 0.0000, 0.0000],\n",
       "        ...,\n",
       "        [0.5312, 0.4485, 0.0000,  ..., 0.0691, 0.0000, 0.5523],\n",
       "        [0.0000, 0.4938, 0.0000,  ..., 0.0557, 0.0000, 0.0000],\n",
       "        [0.0000, 0.4529, 0.0000,  ..., 0.0210, 0.0000, 0.0000]],\n",
       "       device='cuda:0', grad_fn=<CloneBackward0>)"
      ]
     },
     "execution_count": 12,
     "metadata": {},
     "output_type": "execute_result"
    }
   ],
   "source": [
    "output.size()\n",
    "output\n",
    "# set_voxel_inds_list[0][0].int().size()"
   ]
  },
  {
   "cell_type": "code",
   "execution_count": 13,
   "id": "83f34fc0-a9a9-4f47-926f-243990444dcd",
   "metadata": {},
   "outputs": [],
   "source": [
    "# tensor([[-1.0312, -0.2234, -0.2581,  ..., -1.2207,  0.0303, -0.2534],\n",
    "#         [ 0.0000,  0.0686,  0.0000,  ...,  0.0079,  0.0000,  0.0000],\n",
    "#         [ 0.0000,  0.0000,  0.0000,  ...,  0.0000,  0.0000,  0.0000],\n",
    "#         ...,\n",
    "#         [ 0.5312,  0.4485,  0.0000,  ...,  0.0691,  0.0000,  0.5523],\n",
    "#         [ 0.0000,  0.4938,  0.0000,  ...,  0.0557,  0.0000,  0.0000],\n",
    "#         [ 0.0000,  0.4529,  0.0000,  ...,  0.0210,  0.0000,  0.0000]],\n",
    "#        device='cuda:0', grad_fn=<CloneBackward0>)"
   ]
  },
  {
   "cell_type": "code",
   "execution_count": 14,
   "id": "04f01935-fb7e-4baa-b925-8ce9c77c9da6",
   "metadata": {},
   "outputs": [],
   "source": [
    "def load_trt_engine(path: str) -> trt.ICudaEngine:\n",
    "    \"\"\"Deserialize TensorRT engine from disk.\n",
    "\n",
    "    Args:\n",
    "        path (str): The disk path to read the engine.\n",
    "\n",
    "    Returns:\n",
    "        tensorrt.ICudaEngine: The TensorRT engine loaded from disk.\n",
    "    \"\"\"\n",
    "    # load_tensorrt_plugin()\n",
    "    with trt.Logger() as logger, trt.Runtime(logger) as runtime:\n",
    "        with open(path, mode='rb') as f:\n",
    "            engine_bytes = f.read()\n",
    "        engine = runtime.deserialize_cuda_engine(engine_bytes)\n",
    "        print(f\"TensorRT engine {path} successfully loaded.\")\n",
    "        return engine"
   ]
  },
  {
   "cell_type": "code",
   "execution_count": 15,
   "id": "f7216823-eba6-4339-a065-596acbdc2857",
   "metadata": {},
   "outputs": [
    {
     "name": "stdout",
     "output_type": "stream",
     "text": [
      "TensorRT engine ./deploy_pillar_sfaw_3d_origin/dsvt_3d_bb_origin_2.engine successfully loaded.\n",
      "[04/16/2024-00:39:35] [TRT] [W] CUDA lazy loading is not enabled. Enabling it can significantly reduce device memory usage and speed up TensorRT initialization. See \"Lazy Loading\" section of CUDA documentation https://docs.nvidia.com/cuda/cuda-c-programming-guide/index.html#lazy-loading\n"
     ]
    }
   ],
   "source": [
    "trt.init_libnvinfer_plugins(None, '')\n",
    "if isinstance(trt_path, str):\n",
    "    engine = load_trt_engine(trt_path)\n",
    "\n",
    "if not isinstance(engine, trt.ICudaEngine):\n",
    "    raise TypeError(f'`engine` should be str or trt.ICudaEngine, \\\n",
    "        but given: {type(engine)}')\n",
    "\n",
    "context = engine.create_execution_context()"
   ]
  },
  {
   "cell_type": "code",
   "execution_count": 16,
   "id": "d8568c94-f0ae-4956-b222-a29e89eba1f8",
   "metadata": {},
   "outputs": [],
   "source": [
    "# context.set_tensor_address(\"src\", ptr)\n"
   ]
  },
  {
   "cell_type": "code",
   "execution_count": 93,
   "id": "bf247ae6-0eaf-4d61-b93b-e456ddee1212",
   "metadata": {},
   "outputs": [
    {
     "data": {
      "text/plain": [
       "'output'"
      ]
     },
     "execution_count": 93,
     "metadata": {},
     "output_type": "execute_result"
    }
   ],
   "source": [
    "# inputs.items()\n",
    "engine.get_tensor_name(0)\n",
    "# engine.get_tensor_name(1)\n",
    "# engine.get_tensor_name(2)\n",
    "# engine.get_tensor_name(3)\n",
    "# engine.get_tensor_name(4)\n",
    "# engine.get_tensor_name(5)\n",
    "engine.get_tensor_name(6)\n",
    "\n"
   ]
  },
  {
   "cell_type": "code",
   "execution_count": 18,
   "id": "9efc2917-a70c-48a3-84ae-076fd7c41a9f",
   "metadata": {},
   "outputs": [
    {
     "data": {
      "text/plain": [
       "[(962, 192), (962, 192), (962, 192)]"
      ]
     },
     "execution_count": 18,
     "metadata": {},
     "output_type": "execute_result"
    }
   ],
   "source": [
    "src_shape = engine.get_tensor_profile_shape(\"src\", 0)[0]\n",
    "engine.get_tensor_profile_shape(\"output\", 0)"
   ]
  },
  {
   "cell_type": "code",
   "execution_count": 19,
   "id": "931c8441-7ec1-471f-8c8d-d1b98e68a512",
   "metadata": {},
   "outputs": [],
   "source": [
    "# engine.get_tensor_profile_values(0,\"src\")\n",
    "# input_host_mem = cuda.pagelocked_empty(trt.volume(src_shape) * trt.float32.itemsize)\n",
    "\n",
    "bindings = [None] * (len(input_names) + len(output_names))\n",
    "\n"
   ]
  },
  {
   "cell_type": "code",
   "execution_count": 84,
   "id": "921d19e3-5edb-4ac9-bdd0-ea18c56e7b8c",
   "metadata": {},
   "outputs": [],
   "source": [
    "# context.execute_async_v3(\n",
    "#             bindings,\n",
    "#             torch.cuda.current_stream().cuda_stream,\n",
    "#         )\n"
   ]
  },
  {
   "cell_type": "code",
   "execution_count": 80,
   "id": "d444676c-503c-4cba-8b36-bce4065b3361",
   "metadata": {},
   "outputs": [
    {
     "name": "stderr",
     "output_type": "stream",
     "text": [
      "/tmp/ipykernel_2586124/3761975307.py:1: DeprecationWarning: Use get_tensor_profile_shape instead.\n",
      "  engine.get_profile_shape(0,\"src\")\n"
     ]
    },
    {
     "data": {
      "text/plain": [
       "<TensorFormat.LINEAR: 0>"
      ]
     },
     "execution_count": 80,
     "metadata": {},
     "output_type": "execute_result"
    }
   ],
   "source": [
    "engine.get_profile_shape(0,\"src\")\n",
    "engine.get_tensor_location(\"src\")\n",
    "engine.get_tensor_format(\"src\")\n",
    "engine.get_tensor_name(1)\n",
    "# engine.get_tensor_profile_values(0,\"src\")"
   ]
  },
  {
   "cell_type": "code",
   "execution_count": 90,
   "id": "10535336-8c49-49b6-ab4a-25ed756c3f01",
   "metadata": {},
   "outputs": [],
   "source": [
    "# profile = self.engine.get_profile_shape(profile_id, input_name)\n",
    "# assert input_tensor.dim() == len(\n",
    "#     profile[0]), 'Input dim is different from engine profile.'\n",
    "# for s_min, s_input, s_max in zip(eval(repr(profile[0])), input_tensor.shape,\n",
    "#                                  eval(repr(profile[2]))):\n",
    "#     assert s_min <= s_input <= s_max, \\\n",
    "#         f'Input shape of {input_name} should be between ' \\\n",
    "#         + f'{profile[0]} and {profile[2]}' \\\n",
    "#         + f' but get {tuple(input_tensor.shape)}.'"
   ]
  },
  {
   "cell_type": "code",
   "execution_count": 89,
   "id": "497d0c72-81c4-4ec1-a5d4-30e60288239b",
   "metadata": {},
   "outputs": [
    {
     "name": "stdout",
     "output_type": "stream",
     "text": [
      "profile : [(962, 192), (962, 192), (962, 192)]\n",
      "type : torch.float32\n",
      "shape : torch.Size([962, 192])\n",
      "profile : [(2, 40, 36), (2, 40, 36), (2, 40, 36)]\n",
      "type : torch.int32\n",
      "shape : torch.Size([2, 40, 36])\n",
      "profile : [(2, 34, 36), (2, 34, 36), (2, 34, 36)]\n",
      "type : torch.int32\n",
      "shape : torch.Size([2, 34, 36])\n",
      "profile : [(2, 40, 36), (2, 40, 36), (2, 40, 36)]\n",
      "type : torch.bool\n",
      "shape : torch.Size([2, 40, 36])\n",
      "profile : [(2, 34, 36), (2, 34, 36), (2, 34, 36)]\n",
      "type : torch.bool\n",
      "shape : torch.Size([2, 34, 36])\n",
      "profile : [(4, 2, 962, 192), (4, 2, 962, 192), (4, 2, 962, 192)]\n",
      "type : torch.float32\n",
      "shape : torch.Size([4, 2, 962, 192])\n"
     ]
    },
    {
     "name": "stderr",
     "output_type": "stream",
     "text": [
      "/tmp/ipykernel_2586124/1391992233.py:7: DeprecationWarning: Use get_tensor_profile_shape instead.\n",
      "  profile = engine.get_profile_shape(profile_id,input_name)\n"
     ]
    }
   ],
   "source": [
    "bindings = [None] * (len(input_names) + len(output_names))\n",
    "\n",
    "# https://github.dev/Haiyang-W/DSVT , dsvt.py -> 384line\n",
    "profile_id = 0\n",
    "idx = 0\n",
    "for input_name, input_tensor in inputs.items():    \n",
    "    profile = engine.get_profile_shape(profile_id,input_name)\n",
    "    print(f'profile : {profile}')\n",
    "    print(f'type : {input_tensor.dtype}')\n",
    "    print(f'shape : {input_tensor.size()}')\n",
    "    context.set_input_shape(input_name,tuple(input_tensor.shape))\n",
    "    bindings[idx] = input_tensor.contiguous().data_ptr()\n",
    "    idx+=1\n",
    "# get_binding_index"
   ]
  },
  {
   "cell_type": "code",
   "execution_count": 91,
   "id": "6ff836cf-3242-4b63-b934-291f1358243e",
   "metadata": {},
   "outputs": [
    {
     "data": {
      "text/plain": [
       "[139711251957248,\n",
       " 139712085820416,\n",
       " 139712085832192,\n",
       " 139711243770880,\n",
       " 139711243773952,\n",
       " 139711206561280,\n",
       " None]"
      ]
     },
     "execution_count": 91,
     "metadata": {},
     "output_type": "execute_result"
    }
   ],
   "source": [
    "bindings"
   ]
  },
  {
   "cell_type": "code",
   "execution_count": 92,
   "id": "386a6aab-5bb9-4a95-8bbe-80852b012ece",
   "metadata": {},
   "outputs": [
    {
     "name": "stdout",
     "output_type": "stream",
     "text": [
      "output\n"
     ]
    }
   ],
   "source": [
    "bindings[-1] = output.data_ptr()\n",
    "\n",
    "\n",
    "# for output_name in output_names:\n",
    "    # print(output_name)\n",
    "    # idx = self.engine.get_binding_index(output_name)\n",
    "    # dtype = torch_dtype_from_trt(self.engine.get_binding_dtype(idx))\n",
    "    # shape = eval(repr(self.context.get_binding_shape(idx)))\n",
    "\n",
    "    # device = torch_device_from_trt(self.engine.get_location(idx))\n",
    "    # output = torch.empty(size=shape, dtype=dtype, device=device)\n",
    "    # outputs[output_name] = output\n",
    "    # bindings[idx] = output.data_ptr()\n"
   ]
  },
  {
   "cell_type": "code",
   "execution_count": 25,
   "id": "6453eac7-a545-4525-8b66-df6935d545ac",
   "metadata": {},
   "outputs": [
    {
     "data": {
      "text/plain": [
       "[139711251957248,\n",
       " 139712085820416,\n",
       " 139712085832192,\n",
       " 139711243770880,\n",
       " 139711243773952,\n",
       " 139711206561280,\n",
       " 139711251957248]"
      ]
     },
     "execution_count": 25,
     "metadata": {},
     "output_type": "execute_result"
    }
   ],
   "source": [
    "bindings"
   ]
  },
  {
   "cell_type": "code",
   "execution_count": 26,
   "id": "b1f0b133-b95d-4c5c-ab59-18561894d08b",
   "metadata": {},
   "outputs": [
    {
     "data": {
      "text/plain": [
       "True"
      ]
     },
     "execution_count": 26,
     "metadata": {},
     "output_type": "execute_result"
    }
   ],
   "source": [
    "context.execute_v2(\n",
    "            bindings\n",
    "        )\n"
   ]
  },
  {
   "cell_type": "code",
   "execution_count": 27,
   "id": "32a0269b-6d89-4e7d-b1b6-9212a013a864",
   "metadata": {},
   "outputs": [
    {
     "data": {
      "text/plain": [
       "torch.Size([962, 192])"
      ]
     },
     "execution_count": 27,
     "metadata": {},
     "output_type": "execute_result"
    }
   ],
   "source": [
    "output.size()\n"
   ]
  },
  {
   "cell_type": "code",
   "execution_count": 28,
   "id": "a71c5274-a564-4345-8e2b-df039e41d081",
   "metadata": {},
   "outputs": [
    {
     "data": {
      "text/plain": [
       "tensor([[-0.9653, -0.2267, -0.1353,  ..., -1.1621, -0.1450, -0.2219],\n",
       "        [-1.0186, -0.1864, -0.1697,  ..., -1.1982, -0.1243, -0.2854],\n",
       "        [-1.0752, -0.1381, -0.1663,  ..., -1.0742,  0.1079, -0.2844],\n",
       "        ...,\n",
       "        [-0.3411,  0.4285, -0.3716,  ..., -0.9014, -0.8604, -0.0605],\n",
       "        [-0.6758,  0.6250, -0.0422,  ..., -1.0859, -1.0088, -0.3896],\n",
       "        [-0.7290,  0.2339,  0.1506,  ..., -1.0791, -0.2252, -0.5078]],\n",
       "       device='cuda:0', grad_fn=<CloneBackward0>)"
      ]
     },
     "execution_count": 28,
     "metadata": {},
     "output_type": "execute_result"
    }
   ],
   "source": [
    "output"
   ]
  },
  {
   "cell_type": "code",
   "execution_count": 39,
   "id": "66021eb8-8297-480f-aaf9-0aa89d087f70",
   "metadata": {},
   "outputs": [],
   "source": [
    "# context.execute_async_v3(bindings[0])"
   ]
  },
  {
   "cell_type": "code",
   "execution_count": null,
   "id": "efaa2d63-83fe-413f-8157-b146f30a51b9",
   "metadata": {},
   "outputs": [],
   "source": [
    "####\n"
   ]
  },
  {
   "cell_type": "code",
   "execution_count": 30,
   "id": "5fa25c1a-ff2b-4d25-8aa8-9429fc07a162",
   "metadata": {},
   "outputs": [],
   "source": [
    "# # engine = load_engine(engine_file_path)\n",
    "# # Load the TensorRT engine from the file\n",
    "# with open(engine_file_path, 'rb') as f, trt.Runtime(trt.Logger(trt.Logger.WARNING)) as runtime:\n",
    "#     engine = runtime.deserialize_cuda_engine(f.read())\n",
    "#     context = engine.create_execution_context()\n",
    "# # engine\n"
   ]
  },
  {
   "cell_type": "code",
   "execution_count": null,
   "id": "70756800-a4c1-4d60-911a-b21583b49e9b",
   "metadata": {},
   "outputs": [],
   "source": []
  },
  {
   "cell_type": "code",
   "execution_count": 31,
   "id": "de49cd73-4c7f-4d4a-9d87-a26f54ac0819",
   "metadata": {},
   "outputs": [],
   "source": [
    "# num_bindings = engine.num_bindings\n",
    "# binding_info = []\n",
    "# for i in range(num_bindings):\n",
    "#     binding_info.append({\n",
    "#         'index': i,\n",
    "#         'name': engine.get_binding_name(i),\n",
    "#         'shape': engine.get_binding_shape(i),\n",
    "#         'dtype': trt.nptype(engine.get_binding_dtype(i))\n",
    "#     })"
   ]
  },
  {
   "cell_type": "code",
   "execution_count": null,
   "id": "afd69722-60da-4971-bbeb-5e026dfcf9e3",
   "metadata": {},
   "outputs": [],
   "source": [
    "context = engine.create_execution_context()\n",
    "\n",
    "# 입력 및 출력 버퍼를 할당합니다.\n",
    "input_shape = engine.get_binding_shape(0)\n",
    "output_shape = engine.get_binding_shape(1)\n",
    "input_host_mem = cuda.pagelocked_empty(trt.volume(input_shape) * trt.float32.itemsize)\n",
    "output_host_mem = cuda.pagelocked_empty(trt.volume(output_shape) * trt.float32.itemsize)\n",
    "input_device_mem = cuda.mem_alloc(input_host_mem.nbytes)\n",
    "output_device_mem = cuda.mem_alloc(output_host_mem.nbytes)\n",
    "\n",
    "# 이미지 전처리\n",
    "image = preprocess_image(image_path, input_shape)\n",
    "\n",
    "# 입력을 GPU 메모리로 복사합니다.\n",
    "cuda.memcpy_htod(input_device_mem, image.flatten())\n",
    "\n",
    "# 추론 실행\n",
    "bindings = [int(input_device_mem), int(output_device_mem)]\n",
    "context.execute_v2(bindings)\n",
    "\n",
    "# 결과를 GPU에서 CPU로 복사합니다.\n",
    "cuda.memcpy_dtoh(output_host_mem, output_device_mem)"
   ]
  },
  {
   "cell_type": "code",
   "execution_count": 44,
   "id": "ab89aeb5-0085-4647-a70e-9d7deb962cbb",
   "metadata": {},
   "outputs": [],
   "source": [
    "input_dict = {}\n",
    "input_dict['data_dict']={}\n",
    "input_dict['data_dict']['voxel_features'] = ort_outs[0]\n",
    "input_dict['data_dict']['use_lead_xyz'] = ort_outs[1]\n",
    "input_dict['data_dict']['batch_size'] = ort_outs[2]\n",
    "input_dict['data_dict']['pillar_features'] = ort_outs[3]\n",
    "input_dict['data_dict']['voxel_coords'] = ort_outs[4]\n",
    "input_dict['data_dict']['spatial_features'] = ort_outs[5]\n"
   ]
  },
  {
   "cell_type": "code",
   "execution_count": 45,
   "id": "1ddcc566-ac78-4fdb-8da8-8ad57d4b5c22",
   "metadata": {},
   "outputs": [
    {
     "data": {
      "text/plain": [
       "[array([[-1.09687102e+00, -8.87880400e-02,  1.56932503e-01, ...,\n",
       "         -1.04772103e+00,  3.80000025e-02, -1.98598042e-01],\n",
       "        [-1.09640002e+00, -7.08313286e-02,  1.60521924e-01, ...,\n",
       "         -1.08235085e+00,  4.23637405e-02, -1.92351431e-01],\n",
       "        [-1.08620584e+00, -1.00942045e-01,  1.78571254e-01, ...,\n",
       "         -1.05504239e+00,  2.63126958e-02, -1.59484476e-01],\n",
       "        ...,\n",
       "        [-3.60771865e-01,  2.12830842e-01, -1.58340424e-01, ...,\n",
       "         -1.23321116e+00, -1.63467184e-01,  1.67723268e-01],\n",
       "        [-6.18592083e-01,  3.51619005e-01, -1.11299597e-01, ...,\n",
       "         -1.37231803e+00, -1.09309152e-01, -5.45044169e-02],\n",
       "        [-6.13398969e-01,  3.21275711e-01, -1.22284256e-02, ...,\n",
       "         -1.24491286e+00,  6.93649054e-04, -1.37990996e-01]], dtype=float32),\n",
       " array([1.], dtype=float32),\n",
       " array(1, dtype=int64),\n",
       " array([[-1.09687102e+00, -8.87880400e-02,  1.56932503e-01, ...,\n",
       "         -1.04772103e+00,  3.80000025e-02, -1.98598042e-01],\n",
       "        [-1.09640002e+00, -7.08313286e-02,  1.60521924e-01, ...,\n",
       "         -1.08235085e+00,  4.23637405e-02, -1.92351431e-01],\n",
       "        [-1.08620584e+00, -1.00942045e-01,  1.78571254e-01, ...,\n",
       "         -1.05504239e+00,  2.63126958e-02, -1.59484476e-01],\n",
       "        ...,\n",
       "        [-3.60771865e-01,  2.12830842e-01, -1.58340424e-01, ...,\n",
       "         -1.23321116e+00, -1.63467184e-01,  1.67723268e-01],\n",
       "        [-6.18592083e-01,  3.51619005e-01, -1.11299597e-01, ...,\n",
       "         -1.37231803e+00, -1.09309152e-01, -5.45044169e-02],\n",
       "        [-6.13398969e-01,  3.21275711e-01, -1.22284256e-02, ...,\n",
       "         -1.24491286e+00,  6.93649054e-04, -1.37990996e-01]], dtype=float32),\n",
       " array([[  0,   0, 255, 169],\n",
       "        [  0,   0, 256, 169],\n",
       "        [  0,   0, 255, 170],\n",
       "        ...,\n",
       "        [  0,   0, 210, 259],\n",
       "        [  0,   0, 210, 260],\n",
       "        [  0,   0, 211, 260]], dtype=int64),\n",
       " array([[[[0., 0., 0., ..., 0., 0., 0.],\n",
       "          [0., 0., 0., ..., 0., 0., 0.],\n",
       "          [0., 0., 0., ..., 0., 0., 0.],\n",
       "          ...,\n",
       "          [0., 0., 0., ..., 0., 0., 0.],\n",
       "          [0., 0., 0., ..., 0., 0., 0.],\n",
       "          [0., 0., 0., ..., 0., 0., 0.]],\n",
       " \n",
       "         [[0., 0., 0., ..., 0., 0., 0.],\n",
       "          [0., 0., 0., ..., 0., 0., 0.],\n",
       "          [0., 0., 0., ..., 0., 0., 0.],\n",
       "          ...,\n",
       "          [0., 0., 0., ..., 0., 0., 0.],\n",
       "          [0., 0., 0., ..., 0., 0., 0.],\n",
       "          [0., 0., 0., ..., 0., 0., 0.]],\n",
       " \n",
       "         [[0., 0., 0., ..., 0., 0., 0.],\n",
       "          [0., 0., 0., ..., 0., 0., 0.],\n",
       "          [0., 0., 0., ..., 0., 0., 0.],\n",
       "          ...,\n",
       "          [0., 0., 0., ..., 0., 0., 0.],\n",
       "          [0., 0., 0., ..., 0., 0., 0.],\n",
       "          [0., 0., 0., ..., 0., 0., 0.]],\n",
       " \n",
       "         ...,\n",
       " \n",
       "         [[0., 0., 0., ..., 0., 0., 0.],\n",
       "          [0., 0., 0., ..., 0., 0., 0.],\n",
       "          [0., 0., 0., ..., 0., 0., 0.],\n",
       "          ...,\n",
       "          [0., 0., 0., ..., 0., 0., 0.],\n",
       "          [0., 0., 0., ..., 0., 0., 0.],\n",
       "          [0., 0., 0., ..., 0., 0., 0.]],\n",
       " \n",
       "         [[0., 0., 0., ..., 0., 0., 0.],\n",
       "          [0., 0., 0., ..., 0., 0., 0.],\n",
       "          [0., 0., 0., ..., 0., 0., 0.],\n",
       "          ...,\n",
       "          [0., 0., 0., ..., 0., 0., 0.],\n",
       "          [0., 0., 0., ..., 0., 0., 0.],\n",
       "          [0., 0., 0., ..., 0., 0., 0.]],\n",
       " \n",
       "         [[0., 0., 0., ..., 0., 0., 0.],\n",
       "          [0., 0., 0., ..., 0., 0., 0.],\n",
       "          [0., 0., 0., ..., 0., 0., 0.],\n",
       "          ...,\n",
       "          [0., 0., 0., ..., 0., 0., 0.],\n",
       "          [0., 0., 0., ..., 0., 0., 0.],\n",
       "          [0., 0., 0., ..., 0., 0., 0.]]]], dtype=float32),\n",
       " array([[[[0.35196745, 0.70897365, 0.6402973 , ..., 0.639117  ,\n",
       "           0.5351288 , 0.9620945 ],\n",
       "          [0.6058658 , 0.68209326, 0.6289264 , ..., 0.6429725 ,\n",
       "           0.7770473 , 1.08794   ],\n",
       "          [0.4051624 , 0.50884706, 0.18977597, ..., 0.11309573,\n",
       "           0.38667515, 0.8934765 ],\n",
       "          ...,\n",
       "          [0.45144504, 0.6177946 , 0.37533143, ..., 0.31885695,\n",
       "           0.42140126, 0.88487935],\n",
       "          [0.52471024, 0.6774818 , 0.6046761 , ..., 0.64335114,\n",
       "           0.6045774 , 0.9232498 ],\n",
       "          [0.5045047 , 0.6074514 , 0.51535493, ..., 0.52884215,\n",
       "           0.6361034 , 0.73259795]],\n",
       " \n",
       "         [[0.        , 0.        , 0.        , ..., 0.        ,\n",
       "           0.        , 0.        ],\n",
       "          [0.        , 0.        , 0.        , ..., 0.        ,\n",
       "           0.        , 0.        ],\n",
       "          [0.        , 0.        , 0.0208385 , ..., 0.        ,\n",
       "           0.        , 0.        ],\n",
       "          ...,\n",
       "          [0.        , 0.        , 0.        , ..., 0.        ,\n",
       "           0.        , 0.        ],\n",
       "          [0.        , 0.        , 0.        , ..., 0.        ,\n",
       "           0.        , 0.        ],\n",
       "          [0.        , 0.        , 0.        , ..., 0.        ,\n",
       "           0.        , 0.        ]],\n",
       " \n",
       "         [[0.        , 0.        , 0.        , ..., 0.        ,\n",
       "           0.        , 0.        ],\n",
       "          [0.        , 0.        , 0.        , ..., 0.        ,\n",
       "           0.        , 0.        ],\n",
       "          [0.        , 0.        , 0.        , ..., 0.        ,\n",
       "           0.        , 0.        ],\n",
       "          ...,\n",
       "          [0.        , 0.        , 0.        , ..., 0.        ,\n",
       "           0.        , 0.        ],\n",
       "          [0.        , 0.        , 0.        , ..., 0.        ,\n",
       "           0.        , 0.        ],\n",
       "          [0.        , 0.        , 0.        , ..., 0.        ,\n",
       "           0.        , 0.        ]],\n",
       " \n",
       "         ...,\n",
       " \n",
       "         [[0.        , 0.19795007, 0.21601531, ..., 0.07748826,\n",
       "           0.18229073, 0.24095818],\n",
       "          [0.331886  , 0.18602535, 0.09338261, ..., 0.2182024 ,\n",
       "           0.09710005, 0.15000391],\n",
       "          [0.12506366, 0.        , 0.18820335, ..., 0.        ,\n",
       "           0.30530006, 0.        ],\n",
       "          ...,\n",
       "          [0.40101153, 0.35803324, 0.20281366, ..., 0.03908257,\n",
       "           0.5095211 , 0.        ],\n",
       "          [0.06889779, 0.        , 0.00673862, ..., 0.        ,\n",
       "           0.        , 0.        ],\n",
       "          [0.        , 0.387425  , 0.        , ..., 0.37526515,\n",
       "           0.        , 0.39843017]],\n",
       " \n",
       "         [[0.89891183, 0.        , 0.35684308, ..., 0.        ,\n",
       "           0.36096752, 0.16201466],\n",
       "          [1.07297   , 0.7343879 , 0.2637777 , ..., 0.47726223,\n",
       "           0.42647058, 0.        ],\n",
       "          [0.5356904 , 0.13697018, 0.29292998, ..., 0.        ,\n",
       "           0.21192952, 0.81882393],\n",
       "          ...,\n",
       "          [1.0300378 , 0.61176544, 0.751088  , ..., 0.17077652,\n",
       "           0.56019866, 0.        ],\n",
       "          [0.98000336, 0.74723315, 0.32686982, ..., 0.06370046,\n",
       "           0.2288964 , 1.0750434 ],\n",
       "          [0.94121575, 0.03760587, 0.7665682 , ..., 0.02645935,\n",
       "           0.734095  , 0.        ]],\n",
       " \n",
       "         [[0.        , 0.        , 0.        , ..., 0.        ,\n",
       "           0.        , 0.        ],\n",
       "          [0.        , 0.        , 0.        , ..., 0.        ,\n",
       "           0.        , 0.        ],\n",
       "          [0.        , 0.        , 0.        , ..., 0.        ,\n",
       "           0.        , 0.        ],\n",
       "          ...,\n",
       "          [0.        , 0.        , 0.        , ..., 0.        ,\n",
       "           0.        , 0.        ],\n",
       "          [0.        , 0.        , 0.        , ..., 0.        ,\n",
       "           0.        , 0.        ],\n",
       "          [0.        , 0.        , 0.        , ..., 0.        ,\n",
       "           0.        , 0.        ]]]], dtype=float32)]"
      ]
     },
     "execution_count": 45,
     "metadata": {},
     "output_type": "execute_result"
    }
   ],
   "source": [
    "base_name = \"./deploy_pillar_sfaw_2d/dsvt_2d_bb\"\n",
    "ts_path = f\"{base_name}.ts\"\n",
    "onnx_path = f\"{base_name}.onnx\"\n",
    "\n",
    "ort_session = ort.InferenceSession(onnx_path)\n",
    "\n",
    "ort_inputs = {\n",
    "    'voxel_features' : input_dict['data_dict']['voxel_features'],\n",
    "    'use_lead_xyz' : input_dict['data_dict']['use_lead_xyz'],\n",
    "    'batch_size' :  input_dict['data_dict']['batch_size'],\n",
    "    'pillar_features' : input_dict['data_dict']['pillar_features'],\n",
    "    'voxel_coords' : input_dict['data_dict']['voxel_coords'],\n",
    "    'spatial_features' : input_dict['data_dict']['spatial_features']\n",
    "}\n",
    "ort_outs = ort_session.run(None, ort_inputs)\n",
    "ort_outs\n"
   ]
  },
  {
   "cell_type": "code",
   "execution_count": 46,
   "id": "7401c11a-c2a4-47c6-be1a-167250b9553c",
   "metadata": {},
   "outputs": [],
   "source": [
    "#### Head"
   ]
  },
  {
   "cell_type": "code",
   "execution_count": 48,
   "id": "177cb6d4-595d-4c0d-9677-313dda7c58bf",
   "metadata": {},
   "outputs": [],
   "source": [
    "# data_dict = {}\n",
    "input_dict = {}\n",
    "input_dict['data_dict']={}\n",
    "input_dict['data_dict']['voxel_features'] = ort_outs[0]\n",
    "input_dict['data_dict']['use_lead_xyz'] = ort_outs[1]\n",
    "input_dict['data_dict']['batch_size'] = ort_outs[2]\n",
    "input_dict['data_dict']['pillar_features'] = ort_outs[3]\n",
    "input_dict['data_dict']['voxel_coords'] = ort_outs[4]\n",
    "input_dict['data_dict']['spatial_features'] = ort_outs[5]\n",
    "input_dict['data_dict']['spatial_features_2d'] = ort_outs[6]\n",
    "\n"
   ]
  },
  {
   "cell_type": "code",
   "execution_count": 50,
   "id": "99099044-0103-47f8-ad08-d6a7cd565723",
   "metadata": {},
   "outputs": [
    {
     "ename": "ValueError",
     "evalue": "Required inputs (['onnx::Identity_0', 'onnx::Identity_1', 'onnx::Identity_2', 'onnx::Identity_3', 'onnx::Identity_4', 'onnx::Identity_5', 'input.1']) are missing from input feed (['voxel_features', 'use_lead_xyz', 'batch_size', 'pillar_features', 'voxel_coords', 'spatial_features', 'spatial_features_2d']).",
     "output_type": "error",
     "traceback": [
      "\u001b[0;31m---------------------------------------------------------------------------\u001b[0m",
      "\u001b[0;31mValueError\u001b[0m                                Traceback (most recent call last)",
      "Cell \u001b[0;32mIn[50], line 19\u001b[0m\n\u001b[1;32m      7\u001b[0m ort_session \u001b[38;5;241m=\u001b[39m ort\u001b[38;5;241m.\u001b[39mInferenceSession(onnx_path)\n\u001b[1;32m      9\u001b[0m ort_inputs \u001b[38;5;241m=\u001b[39m {\n\u001b[1;32m     10\u001b[0m     \u001b[38;5;124m'\u001b[39m\u001b[38;5;124mvoxel_features\u001b[39m\u001b[38;5;124m'\u001b[39m : input_dict[\u001b[38;5;124m'\u001b[39m\u001b[38;5;124mdata_dict\u001b[39m\u001b[38;5;124m'\u001b[39m][\u001b[38;5;124m'\u001b[39m\u001b[38;5;124mvoxel_features\u001b[39m\u001b[38;5;124m'\u001b[39m],\n\u001b[1;32m     11\u001b[0m     \u001b[38;5;124m'\u001b[39m\u001b[38;5;124muse_lead_xyz\u001b[39m\u001b[38;5;124m'\u001b[39m : input_dict[\u001b[38;5;124m'\u001b[39m\u001b[38;5;124mdata_dict\u001b[39m\u001b[38;5;124m'\u001b[39m][\u001b[38;5;124m'\u001b[39m\u001b[38;5;124muse_lead_xyz\u001b[39m\u001b[38;5;124m'\u001b[39m],\n\u001b[0;32m   (...)\u001b[0m\n\u001b[1;32m     16\u001b[0m     \u001b[38;5;124m'\u001b[39m\u001b[38;5;124mspatial_features_2d\u001b[39m\u001b[38;5;124m'\u001b[39m : input_dict[\u001b[38;5;124m'\u001b[39m\u001b[38;5;124mdata_dict\u001b[39m\u001b[38;5;124m'\u001b[39m][\u001b[38;5;124m'\u001b[39m\u001b[38;5;124mspatial_features_2d\u001b[39m\u001b[38;5;124m'\u001b[39m]\n\u001b[1;32m     17\u001b[0m }\n\u001b[0;32m---> 19\u001b[0m ort_outs \u001b[38;5;241m=\u001b[39m \u001b[43mort_session\u001b[49m\u001b[38;5;241;43m.\u001b[39;49m\u001b[43mrun\u001b[49m\u001b[43m(\u001b[49m\u001b[38;5;28;43;01mNone\u001b[39;49;00m\u001b[43m,\u001b[49m\u001b[43m \u001b[49m\u001b[43mort_inputs\u001b[49m\u001b[43m)\u001b[49m\n\u001b[1;32m     20\u001b[0m ort_outs\n",
      "File \u001b[0;32m/usr/local/lib/python3.8/dist-packages/onnxruntime/capi/onnxruntime_inference_collection.py:216\u001b[0m, in \u001b[0;36mSession.run\u001b[0;34m(self, output_names, input_feed, run_options)\u001b[0m\n\u001b[1;32m    202\u001b[0m \u001b[38;5;28;01mdef\u001b[39;00m \u001b[38;5;21mrun\u001b[39m(\u001b[38;5;28mself\u001b[39m, output_names, input_feed, run_options\u001b[38;5;241m=\u001b[39m\u001b[38;5;28;01mNone\u001b[39;00m):\n\u001b[1;32m    203\u001b[0m \u001b[38;5;250m    \u001b[39m\u001b[38;5;124;03m\"\"\"\u001b[39;00m\n\u001b[1;32m    204\u001b[0m \u001b[38;5;124;03m    Compute the predictions.\u001b[39;00m\n\u001b[1;32m    205\u001b[0m \n\u001b[0;32m   (...)\u001b[0m\n\u001b[1;32m    214\u001b[0m \u001b[38;5;124;03m        sess.run([output_name], {input_name: x})\u001b[39;00m\n\u001b[1;32m    215\u001b[0m \u001b[38;5;124;03m    \"\"\"\u001b[39;00m\n\u001b[0;32m--> 216\u001b[0m     \u001b[38;5;28;43mself\u001b[39;49m\u001b[38;5;241;43m.\u001b[39;49m\u001b[43m_validate_input\u001b[49m\u001b[43m(\u001b[49m\u001b[38;5;28;43mlist\u001b[39;49m\u001b[43m(\u001b[49m\u001b[43minput_feed\u001b[49m\u001b[38;5;241;43m.\u001b[39;49m\u001b[43mkeys\u001b[49m\u001b[43m(\u001b[49m\u001b[43m)\u001b[49m\u001b[43m)\u001b[49m\u001b[43m)\u001b[49m\n\u001b[1;32m    217\u001b[0m     \u001b[38;5;28;01mif\u001b[39;00m \u001b[38;5;129;01mnot\u001b[39;00m output_names:\n\u001b[1;32m    218\u001b[0m         output_names \u001b[38;5;241m=\u001b[39m [output\u001b[38;5;241m.\u001b[39mname \u001b[38;5;28;01mfor\u001b[39;00m output \u001b[38;5;129;01min\u001b[39;00m \u001b[38;5;28mself\u001b[39m\u001b[38;5;241m.\u001b[39m_outputs_meta]\n",
      "File \u001b[0;32m/usr/local/lib/python3.8/dist-packages/onnxruntime/capi/onnxruntime_inference_collection.py:198\u001b[0m, in \u001b[0;36mSession._validate_input\u001b[0;34m(self, feed_input_names)\u001b[0m\n\u001b[1;32m    196\u001b[0m         missing_input_names\u001b[38;5;241m.\u001b[39mappend(\u001b[38;5;28minput\u001b[39m\u001b[38;5;241m.\u001b[39mname)\n\u001b[1;32m    197\u001b[0m \u001b[38;5;28;01mif\u001b[39;00m missing_input_names:\n\u001b[0;32m--> 198\u001b[0m     \u001b[38;5;28;01mraise\u001b[39;00m \u001b[38;5;167;01mValueError\u001b[39;00m(\n\u001b[1;32m    199\u001b[0m         \u001b[38;5;124mf\u001b[39m\u001b[38;5;124m\"\u001b[39m\u001b[38;5;124mRequired inputs (\u001b[39m\u001b[38;5;132;01m{\u001b[39;00mmissing_input_names\u001b[38;5;132;01m}\u001b[39;00m\u001b[38;5;124m) are missing from input feed (\u001b[39m\u001b[38;5;132;01m{\u001b[39;00mfeed_input_names\u001b[38;5;132;01m}\u001b[39;00m\u001b[38;5;124m).\u001b[39m\u001b[38;5;124m\"\u001b[39m\n\u001b[1;32m    200\u001b[0m     )\n",
      "\u001b[0;31mValueError\u001b[0m: Required inputs (['onnx::Identity_0', 'onnx::Identity_1', 'onnx::Identity_2', 'onnx::Identity_3', 'onnx::Identity_4', 'onnx::Identity_5', 'input.1']) are missing from input feed (['voxel_features', 'use_lead_xyz', 'batch_size', 'pillar_features', 'voxel_coords', 'spatial_features', 'spatial_features_2d'])."
     ]
    }
   ],
   "source": [
    "# # test onnx\n",
    "base_name = \"./deploy_pillar_sfaw_head/dsvt_head\"\n",
    "ts_path = f\"{base_name}.ts\"\n",
    "onnx_path = f\"{base_name}.onnx\"\n",
    "\n",
    "\n",
    "ort_session = ort.InferenceSession(onnx_path)\n",
    "\n",
    "ort_inputs = {\n",
    "    'voxel_features' : input_dict['data_dict']['voxel_features'],\n",
    "    'use_lead_xyz' : input_dict['data_dict']['use_lead_xyz'],\n",
    "    'batch_size' :  input_dict['data_dict']['batch_size'],\n",
    "    'pillar_features' : input_dict['data_dict']['pillar_features'],\n",
    "    'voxel_coords' : input_dict['data_dict']['voxel_coords'],\n",
    "    'spatial_features' : input_dict['data_dict']['spatial_features'],\n",
    "    'spatial_features_2d' : input_dict['data_dict']['spatial_features_2d']\n",
    "}\n",
    "\n",
    "ort_outs = ort_session.run(None, ort_inputs)\n",
    "ort_outs"
   ]
  }
 ],
 "metadata": {
  "kernelspec": {
   "display_name": "Python 3 (ipykernel)",
   "language": "python",
   "name": "python3"
  },
  "language_info": {
   "codemirror_mode": {
    "name": "ipython",
    "version": 3
   },
   "file_extension": ".py",
   "mimetype": "text/x-python",
   "name": "python",
   "nbconvert_exporter": "python",
   "pygments_lexer": "ipython3",
   "version": "3.8.10"
  }
 },
 "nbformat": 4,
 "nbformat_minor": 5
}
